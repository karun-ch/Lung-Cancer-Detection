{
 "cells": [
  {
   "cell_type": "code",
   "execution_count": null,
   "id": "86c6b5cd-4299-44c6-adb2-c6ff642602c3",
   "metadata": {},
   "outputs": [],
   "source": []
  },
  {
   "cell_type": "code",
   "execution_count": 1,
   "id": "9e569b99",
   "metadata": {
    "_cell_guid": "b1076dfc-b9ad-4769-8c92-a6c4dae69d19",
    "_uuid": "8f2839f25d086af736a60e9eeb907d3b93b6e0e5",
    "papermill": {
     "duration": 10.64553,
     "end_time": "2024-05-16T17:04:15.441102",
     "exception": false,
     "start_time": "2024-05-16T17:04:04.795572",
     "status": "completed"
    },
    "tags": []
   },
   "outputs": [
    {
     "name": "stderr",
     "output_type": "stream",
     "text": [
      "2025-01-15 11:05:32.602982: I tensorflow/tsl/cuda/cudart_stub.cc:28] Could not find cuda drivers on your machine, GPU will not be used.\n",
      "2025-01-15 11:05:32.653910: I tensorflow/tsl/cuda/cudart_stub.cc:28] Could not find cuda drivers on your machine, GPU will not be used.\n",
      "2025-01-15 11:05:32.654969: I tensorflow/core/platform/cpu_feature_guard.cc:182] This TensorFlow binary is optimized to use available CPU instructions in performance-critical operations.\n",
      "To enable the following instructions: AVX2 FMA, in other operations, rebuild TensorFlow with the appropriate compiler flags.\n",
      "2025-01-15 11:05:33.432653: W tensorflow/compiler/tf2tensorrt/utils/py_utils.cc:38] TF-TRT Warning: Could not find TensorRT\n"
     ]
    }
   ],
   "source": [
    "# This Python 3 environment comes with many helpful analytics libraries installed\n",
    "# It is defined by the kaggle/python Docker image: https://github.com/kaggle/docker-python\n",
    "# For example, here's several helpful packages to load\n",
    "\n",
    "import numpy as np # linear algebra\n",
    "import pandas as pd # data processing, CSV file I/O (e.g. pd.read_csv)\n",
    "import cv2\n",
    "import keras\n",
    "from numpy import random\n",
    "\n",
    "import tensorflow as tf\n",
    "\n",
    "# import tensorflow_datasets as tfds\n",
    "from matplotlib import pyplot as plt\n",
    "from keras.models import Sequential, Model\n",
    "from keras.layers import Dense, Dropout, Flatten, Conv2D\n",
    "from keras.layers import MaxPooling2D, BatchNormalization\n",
    "from keras.optimizers import SGD\n",
    "import np_utils\n",
    "from keras.applications import MobileNet, VGG16, ResNet50\n",
    "from tensorflow.keras.applications.resnet50 import preprocess_input\n",
    "from keras.callbacks import ModelCheckpoint, EarlyStopping, ReduceLROnPlateau\n",
    "from sklearn.metrics import precision_score, recall_score, accuracy_score\n",
    "from sklearn.metrics import classification_report ,confusion_matrix\n",
    "from tensorflow.keras.preprocessing.image import ImageDataGenerator\n",
    "from sklearn.model_selection import train_test_split\n",
    "import seaborn as sns\n",
    "\n",
    "# Input data files are available in the read-only \"../input/\" directory\n",
    "# For example, running this (by clicking run or pressing Shift+Enter) will list all files under the input directory\n",
    "\n",
    "import os\n",
    "\n",
    "\n",
    "# You can write up to 20GB to the current directory (/kaggle/working/) that gets preserved as output when you create a version using \"Save & Run All\" \n",
    "# You can also write temporary files to /kaggle/temp/, but they won't be saved outside of the current session"
   ]
  },
  {
   "cell_type": "code",
   "execution_count": 6,
   "id": "3e6b032f-d8e7-4a6d-bb0d-c6b3e32660e9",
   "metadata": {},
   "outputs": [
    {
     "name": "stdout",
     "output_type": "stream",
     "text": [
      "Collecting np_utils\n",
      "  Downloading np_utils-0.6.0.tar.gz (61 kB)\n",
      "\u001b[K     |████████████████████████████████| 61 kB 76 kB/s  eta 0:00:011\n",
      "\u001b[?25hRequirement already satisfied: numpy>=1.0 in /home/karunakar/.local/lib/python3.8/site-packages (from np_utils) (1.24.3)\n",
      "Building wheels for collected packages: np-utils\n",
      "  Building wheel for np-utils (setup.py) ... \u001b[?25ldone\n",
      "\u001b[?25h  Created wheel for np-utils: filename=np_utils-0.6.0-py3-none-any.whl size=56450 sha256=1f534c31464f1d5341e0f982d72289658490b22498cb78bce30e9c42c70dd03f\n",
      "  Stored in directory: /home/karunakar/.cache/pip/wheels/55/8b/e7/a23fd46c709c21e3e6fcb55978d88b018f80d54018459978c3\n",
      "Successfully built np-utils\n",
      "Installing collected packages: np-utils\n",
      "Successfully installed np-utils-0.6.0\n",
      "Note: you may need to restart the kernel to use updated packages.\n"
     ]
    }
   ],
   "source": [
    "pip install np_utils"
   ]
  },
  {
   "cell_type": "markdown",
   "id": "8ecf9e0c",
   "metadata": {
    "papermill": {
     "duration": 0.003976,
     "end_time": "2024-05-16T17:04:15.449749",
     "exception": false,
     "start_time": "2024-05-16T17:04:15.445773",
     "status": "completed"
    },
    "tags": []
   },
   "source": [
    "* **Directory of dataset**"
   ]
  },
  {
   "cell_type": "code",
   "execution_count": 2,
   "id": "7a68e7ec",
   "metadata": {
    "papermill": {
     "duration": 0.012028,
     "end_time": "2024-05-16T17:04:15.465943",
     "exception": false,
     "start_time": "2024-05-16T17:04:15.453915",
     "status": "completed"
    },
    "tags": []
   },
   "outputs": [],
   "source": [
    "# Directory of train, validation and test\n",
    "\n",
    "train_folder = \"Data/train/\"\n",
    "valid_folder = \"Data/valid/\"\n",
    "test_folder = \"Data/test/\"\n"
   ]
  },
  {
   "cell_type": "code",
   "execution_count": 3,
   "id": "8986679d",
   "metadata": {
    "papermill": {
     "duration": 0.08688,
     "end_time": "2024-05-16T17:04:15.556821",
     "exception": false,
     "start_time": "2024-05-16T17:04:15.469941",
     "status": "completed"
    },
    "tags": []
   },
   "outputs": [
    {
     "name": "stdout",
     "output_type": "stream",
     "text": [
      "Found 613 images belonging to 4 classes.\n",
      "Found 315 images belonging to 4 classes.\n",
      "Found 72 images belonging to 4 classes.\n"
     ]
    }
   ],
   "source": [
    "input_shape = (224,224,3)\n",
    "num_classes = 4\n",
    "\n",
    "train_datagen = ImageDataGenerator(\n",
    "    dtype='float32',\n",
    "    rotation_range=10,\n",
    "    width_shift_range=0.2,\n",
    "    height_shift_range=0.2,\n",
    "    shear_range=0.2,\n",
    "    zoom_range=0.2,\n",
    "    horizontal_flip=True,\n",
    "    vertical_flip=False\n",
    ")\n",
    "val_datagen = ImageDataGenerator(\n",
    "    dtype='float32',\n",
    "\n",
    ")\n",
    "test_datagen = ImageDataGenerator(\n",
    "    dtype='float32',\n",
    ")\n",
    "\n",
    "train_generator = train_datagen.flow_from_directory(\n",
    "    train_folder,\n",
    "    target_size=(224,224),\n",
    "    batch_size=64,\n",
    "    class_mode='categorical',\n",
    ")\n",
    "\n",
    "\n",
    "test_generator = test_datagen.flow_from_directory(\n",
    "    test_folder,\n",
    "    target_size=(224,224),\n",
    "    batch_size=64,\n",
    "    class_mode='categorical',\n",
    "    shuffle = False,\n",
    ")\n",
    "validation_generator = val_datagen.flow_from_directory(\n",
    "    valid_folder,\n",
    "    target_size=(224,224),\n",
    "    batch_size=64,\n",
    "    class_mode='categorical',\n",
    ")"
   ]
  },
  {
   "cell_type": "markdown",
   "id": "a6711043",
   "metadata": {
    "papermill": {
     "duration": 0.004018,
     "end_time": "2024-05-16T17:04:15.565242",
     "exception": false,
     "start_time": "2024-05-16T17:04:15.561224",
     "status": "completed"
    },
    "tags": []
   },
   "source": [
    "# SERES_VGG16"
   ]
  },
  {
   "cell_type": "markdown",
   "id": "066391db",
   "metadata": {
    "papermill": {
     "duration": 0.003986,
     "end_time": "2024-05-16T17:04:15.573496",
     "exception": false,
     "start_time": "2024-05-16T17:04:15.569510",
     "status": "completed"
    },
    "tags": []
   },
   "source": [
    "* **Integrating the SE Block into the Residual Block and Incorporating it into the Last Two Output Layers of a Pre-trained VGG16 Model**"
   ]
  },
  {
   "cell_type": "code",
   "execution_count": 4,
   "id": "a520577e",
   "metadata": {
    "papermill": {
     "duration": 1104.058955,
     "end_time": "2024-05-16T17:22:39.636566",
     "exception": false,
     "start_time": "2024-05-16T17:04:15.577611",
     "status": "completed"
    },
    "tags": []
   },
   "outputs": [
    {
     "name": "stdout",
     "output_type": "stream",
     "text": [
      "Epoch 1/149\n"
     ]
    },
    {
     "name": "stderr",
     "output_type": "stream",
     "text": [
      "2025-01-15 11:06:15.773256: W tensorflow/tsl/framework/cpu_allocator_impl.cc:83] Allocation of 822083584 exceeds 10% of free system memory.\n",
      "2025-01-15 11:06:16.436173: W tensorflow/tsl/framework/cpu_allocator_impl.cc:83] Allocation of 822083584 exceeds 10% of free system memory.\n",
      "2025-01-15 11:06:17.416323: W tensorflow/tsl/framework/cpu_allocator_impl.cc:83] Allocation of 411041792 exceeds 10% of free system memory.\n",
      "2025-01-15 11:06:17.884735: W tensorflow/tsl/framework/cpu_allocator_impl.cc:83] Allocation of 411041792 exceeds 10% of free system memory.\n",
      "2025-01-15 11:06:39.233338: W tensorflow/tsl/framework/cpu_allocator_impl.cc:83] Allocation of 411041792 exceeds 10% of free system memory.\n"
     ]
    },
    {
     "name": "stdout",
     "output_type": "stream",
     "text": [
      "10/10 [==============================] - 375s 37s/step - loss: 1.4007 - accuracy: 0.4290 - val_loss: 14.9408 - val_accuracy: 0.2778\n",
      "Epoch 2/149\n",
      "10/10 [==============================] - 368s 36s/step - loss: 1.2858 - accuracy: 0.4747 - val_loss: 9.6120 - val_accuracy: 0.1806\n",
      "Epoch 3/149\n",
      "10/10 [==============================] - 376s 38s/step - loss: 1.0679 - accuracy: 0.5367 - val_loss: 6.2124 - val_accuracy: 0.1806\n",
      "Epoch 4/149\n",
      "10/10 [==============================] - 402s 40s/step - loss: 0.9161 - accuracy: 0.5824 - val_loss: 1.4620 - val_accuracy: 0.4306\n",
      "Epoch 5/149\n",
      "10/10 [==============================] - 388s 39s/step - loss: 0.7987 - accuracy: 0.6411 - val_loss: 3.3973 - val_accuracy: 0.2361\n",
      "Epoch 6/149\n",
      "10/10 [==============================] - 402s 40s/step - loss: 0.7196 - accuracy: 0.6966 - val_loss: 2.3173 - val_accuracy: 0.2639\n",
      "Epoch 7/149\n",
      "10/10 [==============================] - 387s 38s/step - loss: 0.6783 - accuracy: 0.7064 - val_loss: 2.0276 - val_accuracy: 0.3889\n",
      "Epoch 8/149\n",
      "10/10 [==============================] - 409s 41s/step - loss: 0.6400 - accuracy: 0.7374 - val_loss: 2.3099 - val_accuracy: 0.2917\n",
      "Epoch 9/149\n",
      "10/10 [==============================] - 381s 38s/step - loss: 0.5293 - accuracy: 0.7896 - val_loss: 1.4265 - val_accuracy: 0.5139\n",
      "Epoch 10/149\n",
      "10/10 [==============================] - 374s 37s/step - loss: 0.5442 - accuracy: 0.7700 - val_loss: 0.9876 - val_accuracy: 0.5417\n",
      "Epoch 11/149\n",
      "10/10 [==============================] - 369s 37s/step - loss: 0.4677 - accuracy: 0.8222 - val_loss: 1.2572 - val_accuracy: 0.5556\n",
      "Epoch 12/149\n",
      "10/10 [==============================] - 370s 37s/step - loss: 0.3981 - accuracy: 0.8369 - val_loss: 0.8156 - val_accuracy: 0.6667\n",
      "Epoch 13/149\n",
      "10/10 [==============================] - 382s 38s/step - loss: 0.3560 - accuracy: 0.8564 - val_loss: 0.8879 - val_accuracy: 0.7222\n",
      "Epoch 14/149\n",
      "10/10 [==============================] - 379s 38s/step - loss: 0.2981 - accuracy: 0.8858 - val_loss: 1.2820 - val_accuracy: 0.5833\n",
      "Epoch 15/149\n",
      "10/10 [==============================] - 380s 40s/step - loss: 0.3507 - accuracy: 0.8483 - val_loss: 1.1016 - val_accuracy: 0.6944\n",
      "Epoch 16/149\n",
      "10/10 [==============================] - 372s 37s/step - loss: 0.2827 - accuracy: 0.8972 - val_loss: 0.8681 - val_accuracy: 0.7083\n",
      "Epoch 17/149\n",
      "10/10 [==============================] - 411s 41s/step - loss: 0.2119 - accuracy: 0.9331 - val_loss: 0.6421 - val_accuracy: 0.8056\n",
      "Epoch 18/149\n",
      "10/10 [==============================] - 398s 42s/step - loss: 0.2435 - accuracy: 0.9070 - val_loss: 0.7117 - val_accuracy: 0.7917\n",
      "Epoch 19/149\n",
      "10/10 [==============================] - 422s 42s/step - loss: 0.2280 - accuracy: 0.9152 - val_loss: 0.5929 - val_accuracy: 0.8472\n",
      "Epoch 20/149\n",
      "10/10 [==============================] - 388s 38s/step - loss: 0.1816 - accuracy: 0.9331 - val_loss: 1.3236 - val_accuracy: 0.6111\n",
      "Epoch 21/149\n",
      "10/10 [==============================] - 380s 38s/step - loss: 0.1235 - accuracy: 0.9576 - val_loss: 0.5118 - val_accuracy: 0.8194\n",
      "Epoch 22/149\n",
      "10/10 [==============================] - 425s 43s/step - loss: 0.1504 - accuracy: 0.9413 - val_loss: 2.1912 - val_accuracy: 0.5833\n",
      "Epoch 23/149\n",
      "10/10 [==============================] - 425s 42s/step - loss: 0.1880 - accuracy: 0.9347 - val_loss: 0.7046 - val_accuracy: 0.7778\n",
      "Epoch 24/149\n",
      "10/10 [==============================] - 395s 39s/step - loss: 0.1128 - accuracy: 0.9641 - val_loss: 0.4542 - val_accuracy: 0.8889\n",
      "Epoch 25/149\n",
      "10/10 [==============================] - 402s 40s/step - loss: 0.0727 - accuracy: 0.9739 - val_loss: 0.6149 - val_accuracy: 0.8889\n",
      "Epoch 26/149\n",
      "10/10 [==============================] - 398s 40s/step - loss: 0.0783 - accuracy: 0.9739 - val_loss: 0.4707 - val_accuracy: 0.9167\n",
      "Epoch 27/149\n",
      "10/10 [==============================] - 384s 38s/step - loss: 0.0697 - accuracy: 0.9772 - val_loss: 0.6380 - val_accuracy: 0.8750\n",
      "Epoch 28/149\n",
      "10/10 [==============================] - 390s 41s/step - loss: 0.0559 - accuracy: 0.9869 - val_loss: 0.5177 - val_accuracy: 0.8611\n",
      "Epoch 29/149\n",
      "10/10 [==============================] - 393s 39s/step - loss: 0.0689 - accuracy: 0.9821 - val_loss: 0.5129 - val_accuracy: 0.9028\n",
      "Epoch 30/149\n",
      "10/10 [==============================] - 372s 37s/step - loss: 0.0527 - accuracy: 0.9837 - val_loss: 0.6160 - val_accuracy: 0.8611\n",
      "Epoch 31/149\n",
      "10/10 [==============================] - 369s 37s/step - loss: 0.0610 - accuracy: 0.9788 - val_loss: 0.4221 - val_accuracy: 0.8611\n",
      "Epoch 32/149\n",
      "10/10 [==============================] - 372s 37s/step - loss: 0.0654 - accuracy: 0.9869 - val_loss: 0.6587 - val_accuracy: 0.8472\n",
      "Epoch 33/149\n",
      "10/10 [==============================] - 368s 37s/step - loss: 0.0473 - accuracy: 0.9886 - val_loss: 0.4767 - val_accuracy: 0.8889\n",
      "Epoch 34/149\n",
      "10/10 [==============================] - 368s 38s/step - loss: 0.0466 - accuracy: 0.9837 - val_loss: 0.5801 - val_accuracy: 0.7917\n",
      "Epoch 35/149\n",
      "10/10 [==============================] - 367s 37s/step - loss: 0.0427 - accuracy: 0.9886 - val_loss: 0.5165 - val_accuracy: 0.8056\n",
      "Epoch 36/149\n",
      "10/10 [==============================] - 366s 37s/step - loss: 0.0241 - accuracy: 0.9951 - val_loss: 0.5286 - val_accuracy: 0.8611\n",
      "Epoch 37/149\n",
      "10/10 [==============================] - 386s 39s/step - loss: 0.0255 - accuracy: 0.9951 - val_loss: 0.4490 - val_accuracy: 0.8750\n",
      "Epoch 38/149\n",
      "10/10 [==============================] - 403s 40s/step - loss: 0.0297 - accuracy: 0.9918 - val_loss: 0.6381 - val_accuracy: 0.8611\n",
      "Epoch 39/149\n",
      "10/10 [==============================] - 403s 40s/step - loss: 0.0247 - accuracy: 0.9967 - val_loss: 0.8810 - val_accuracy: 0.8056\n",
      "Epoch 40/149\n",
      "10/10 [==============================] - 406s 41s/step - loss: 0.0164 - accuracy: 0.9951 - val_loss: 0.4665 - val_accuracy: 0.8611\n",
      "Epoch 41/149\n",
      "10/10 [==============================] - 380s 38s/step - loss: 0.0147 - accuracy: 0.9951 - val_loss: 0.4445 - val_accuracy: 0.8611\n",
      "Epoch 42/149\n",
      "10/10 [==============================] - 362s 36s/step - loss: 0.0179 - accuracy: 0.9984 - val_loss: 0.4381 - val_accuracy: 0.8611\n",
      "Epoch 43/149\n",
      "10/10 [==============================] - 362s 36s/step - loss: 0.0296 - accuracy: 0.9967 - val_loss: 0.5998 - val_accuracy: 0.8194\n",
      "Epoch 44/149\n",
      "10/10 [==============================] - 362s 36s/step - loss: 0.0196 - accuracy: 0.9967 - val_loss: 0.5119 - val_accuracy: 0.8611\n",
      "Epoch 45/149\n",
      "10/10 [==============================] - 361s 36s/step - loss: 0.0151 - accuracy: 0.9984 - val_loss: 0.6351 - val_accuracy: 0.8750\n",
      "Epoch 46/149\n",
      "10/10 [==============================] - 361s 36s/step - loss: 0.0206 - accuracy: 0.9918 - val_loss: 1.5335 - val_accuracy: 0.6944\n",
      "Epoch 47/149\n",
      "10/10 [==============================] - 357s 36s/step - loss: 0.0281 - accuracy: 0.9951 - val_loss: 0.6300 - val_accuracy: 0.8750\n",
      "Epoch 48/149\n",
      "10/10 [==============================] - 361s 38s/step - loss: 0.0159 - accuracy: 0.9951 - val_loss: 0.6577 - val_accuracy: 0.8889\n",
      "Epoch 49/149\n",
      "10/10 [==============================] - 361s 36s/step - loss: 0.0147 - accuracy: 0.9967 - val_loss: 1.1271 - val_accuracy: 0.8056\n",
      "Epoch 50/149\n",
      "10/10 [==============================] - 361s 36s/step - loss: 0.0143 - accuracy: 0.9984 - val_loss: 0.5959 - val_accuracy: 0.8889\n",
      "Epoch 51/149\n",
      "10/10 [==============================] - 361s 36s/step - loss: 0.0134 - accuracy: 0.9967 - val_loss: 0.4368 - val_accuracy: 0.9167\n",
      "Epoch 52/149\n",
      "10/10 [==============================] - 361s 38s/step - loss: 0.0119 - accuracy: 0.9984 - val_loss: 0.5221 - val_accuracy: 0.9306\n",
      "Epoch 53/149\n",
      "10/10 [==============================] - 362s 36s/step - loss: 0.0154 - accuracy: 0.9951 - val_loss: 0.8753 - val_accuracy: 0.8611\n",
      "Epoch 54/149\n",
      "10/10 [==============================] - 361s 36s/step - loss: 0.0190 - accuracy: 0.9935 - val_loss: 0.6855 - val_accuracy: 0.8889\n",
      "Epoch 55/149\n",
      "10/10 [==============================] - 361s 36s/step - loss: 0.0243 - accuracy: 0.9951 - val_loss: 0.6978 - val_accuracy: 0.8333\n",
      "Epoch 56/149\n",
      "10/10 [==============================] - 362s 36s/step - loss: 0.0155 - accuracy: 0.9951 - val_loss: 0.4861 - val_accuracy: 0.9444\n",
      "Epoch 57/149\n",
      "10/10 [==============================] - 362s 36s/step - loss: 0.0082 - accuracy: 0.9984 - val_loss: 0.6685 - val_accuracy: 0.9028\n",
      "Epoch 58/149\n",
      "10/10 [==============================] - 362s 36s/step - loss: 0.0230 - accuracy: 0.9935 - val_loss: 0.7678 - val_accuracy: 0.8333\n",
      "Epoch 59/149\n",
      "10/10 [==============================] - 358s 36s/step - loss: 0.0197 - accuracy: 0.9918 - val_loss: 0.4617 - val_accuracy: 0.9167\n",
      "Epoch 60/149\n",
      "10/10 [==============================] - 362s 36s/step - loss: 0.0066 - accuracy: 1.0000 - val_loss: 0.5844 - val_accuracy: 0.9028\n",
      "Epoch 61/149\n",
      "10/10 [==============================] - 361s 36s/step - loss: 0.0262 - accuracy: 0.9951 - val_loss: 0.5529 - val_accuracy: 0.9167\n",
      "Epoch 62/149\n",
      "10/10 [==============================] - 362s 36s/step - loss: 0.0046 - accuracy: 1.0000 - val_loss: 0.6688 - val_accuracy: 0.8889\n",
      "Epoch 63/149\n",
      "10/10 [==============================] - 362s 38s/step - loss: 0.0216 - accuracy: 0.9918 - val_loss: 0.7210 - val_accuracy: 0.9028\n",
      "Epoch 64/149\n",
      "10/10 [==============================] - 357s 38s/step - loss: 0.0291 - accuracy: 0.9918 - val_loss: 0.4992 - val_accuracy: 0.9167\n",
      "Epoch 65/149\n",
      "10/10 [==============================] - 362s 36s/step - loss: 0.0280 - accuracy: 0.9886 - val_loss: 0.9576 - val_accuracy: 0.8194\n",
      "Epoch 66/149\n",
      "10/10 [==============================] - 362s 36s/step - loss: 0.0097 - accuracy: 0.9967 - val_loss: 0.6602 - val_accuracy: 0.8750\n",
      "Epoch 67/149\n",
      "10/10 [==============================] - 361s 36s/step - loss: 0.0078 - accuracy: 0.9984 - val_loss: 0.7438 - val_accuracy: 0.8889\n",
      "Epoch 68/149\n",
      "10/10 [==============================] - 361s 38s/step - loss: 0.0115 - accuracy: 0.9967 - val_loss: 0.9794 - val_accuracy: 0.8472\n",
      "Epoch 69/149\n",
      "10/10 [==============================] - 362s 36s/step - loss: 0.0163 - accuracy: 0.9967 - val_loss: 0.6067 - val_accuracy: 0.8889\n",
      "Epoch 70/149\n",
      "10/10 [==============================] - 362s 36s/step - loss: 0.0131 - accuracy: 0.9967 - val_loss: 0.6311 - val_accuracy: 0.8750\n",
      "Epoch 71/149\n",
      "10/10 [==============================] - 362s 36s/step - loss: 0.0193 - accuracy: 0.9967 - val_loss: 0.5778 - val_accuracy: 0.8889\n",
      "Epoch 72/149\n",
      "10/10 [==============================] - 362s 36s/step - loss: 0.0050 - accuracy: 1.0000 - val_loss: 0.4484 - val_accuracy: 0.9306\n",
      "Epoch 73/149\n",
      "10/10 [==============================] - 361s 36s/step - loss: 0.0120 - accuracy: 0.9967 - val_loss: 0.5862 - val_accuracy: 0.9306\n",
      "Epoch 74/149\n",
      "10/10 [==============================] - 362s 36s/step - loss: 0.0252 - accuracy: 0.9935 - val_loss: 0.5801 - val_accuracy: 0.8889\n",
      "Epoch 75/149\n",
      "10/10 [==============================] - 361s 36s/step - loss: 0.0197 - accuracy: 0.9935 - val_loss: 0.6331 - val_accuracy: 0.8889\n",
      "Epoch 76/149\n",
      "10/10 [==============================] - 360s 38s/step - loss: 0.0072 - accuracy: 0.9984 - val_loss: 0.5995 - val_accuracy: 0.9167\n",
      "Epoch 77/149\n",
      "10/10 [==============================] - 358s 36s/step - loss: 0.0086 - accuracy: 0.9967 - val_loss: 0.8203 - val_accuracy: 0.8889\n",
      "Epoch 78/149\n",
      "10/10 [==============================] - 362s 38s/step - loss: 0.0111 - accuracy: 0.9967 - val_loss: 0.6641 - val_accuracy: 0.9167\n",
      "Epoch 79/149\n",
      "10/10 [==============================] - 361s 38s/step - loss: 0.0071 - accuracy: 0.9984 - val_loss: 0.5725 - val_accuracy: 0.9167\n",
      "Epoch 80/149\n",
      "10/10 [==============================] - 362s 36s/step - loss: 0.0038 - accuracy: 0.9984 - val_loss: 0.6344 - val_accuracy: 0.9028\n",
      "Epoch 81/149\n",
      "10/10 [==============================] - 362s 36s/step - loss: 0.0132 - accuracy: 0.9967 - val_loss: 0.7319 - val_accuracy: 0.9028\n",
      "Epoch 82/149\n",
      "10/10 [==============================] - 362s 36s/step - loss: 0.0094 - accuracy: 0.9984 - val_loss: 0.6733 - val_accuracy: 0.9306\n",
      "Epoch 83/149\n",
      "10/10 [==============================] - 362s 36s/step - loss: 0.0127 - accuracy: 0.9967 - val_loss: 1.0317 - val_accuracy: 0.8750\n",
      "Epoch 84/149\n",
      "10/10 [==============================] - 362s 36s/step - loss: 0.0117 - accuracy: 0.9967 - val_loss: 0.7325 - val_accuracy: 0.9028\n",
      "Epoch 85/149\n",
      "10/10 [==============================] - 359s 36s/step - loss: 0.0088 - accuracy: 0.9984 - val_loss: 0.5378 - val_accuracy: 0.9028\n",
      "Epoch 86/149\n",
      "10/10 [==============================] - 364s 36s/step - loss: 0.0056 - accuracy: 0.9984 - val_loss: 0.7598 - val_accuracy: 0.9028\n",
      "Epoch 87/149\n",
      "10/10 [==============================] - 365s 36s/step - loss: 0.0108 - accuracy: 0.9951 - val_loss: 0.5913 - val_accuracy: 0.8889\n",
      "Epoch 88/149\n",
      "10/10 [==============================] - 365s 36s/step - loss: 0.0174 - accuracy: 0.9951 - val_loss: 0.6275 - val_accuracy: 0.8889\n",
      "Epoch 89/149\n",
      "10/10 [==============================] - 363s 36s/step - loss: 0.0047 - accuracy: 0.9984 - val_loss: 0.5672 - val_accuracy: 0.9306\n",
      "Epoch 90/149\n",
      "10/10 [==============================] - 363s 36s/step - loss: 0.0119 - accuracy: 0.9951 - val_loss: 0.8497 - val_accuracy: 0.8750\n",
      "Epoch 91/149\n",
      "10/10 [==============================] - 363s 36s/step - loss: 0.0272 - accuracy: 0.9935 - val_loss: 0.6452 - val_accuracy: 0.9028\n",
      "Epoch 92/149\n",
      "10/10 [==============================] - 363s 38s/step - loss: 0.0079 - accuracy: 0.9984 - val_loss: 0.7185 - val_accuracy: 0.9028\n",
      "Epoch 93/149\n",
      "10/10 [==============================] - 362s 36s/step - loss: 0.0084 - accuracy: 0.9984 - val_loss: 0.6302 - val_accuracy: 0.9167\n",
      "Epoch 94/149\n",
      "10/10 [==============================] - 362s 36s/step - loss: 0.0030 - accuracy: 1.0000 - val_loss: 0.6308 - val_accuracy: 0.8889\n",
      "Epoch 95/149\n",
      "10/10 [==============================] - 363s 36s/step - loss: 0.0051 - accuracy: 0.9984 - val_loss: 0.8298 - val_accuracy: 0.8750\n",
      "Epoch 96/149\n",
      "10/10 [==============================] - 364s 36s/step - loss: 0.0275 - accuracy: 0.9886 - val_loss: 0.8781 - val_accuracy: 0.7778\n",
      "Epoch 97/149\n",
      "10/10 [==============================] - 362s 36s/step - loss: 0.0105 - accuracy: 0.9984 - val_loss: 0.3894 - val_accuracy: 0.9306\n",
      "Epoch 98/149\n",
      "10/10 [==============================] - 363s 36s/step - loss: 0.0027 - accuracy: 1.0000 - val_loss: 0.6013 - val_accuracy: 0.9028\n",
      "Epoch 99/149\n",
      "10/10 [==============================] - 363s 38s/step - loss: 0.0157 - accuracy: 0.9967 - val_loss: 0.4790 - val_accuracy: 0.9167\n",
      "Epoch 100/149\n",
      "10/10 [==============================] - 363s 36s/step - loss: 0.0055 - accuracy: 0.9984 - val_loss: 0.5116 - val_accuracy: 0.9444\n",
      "Epoch 101/149\n",
      "10/10 [==============================] - 363s 36s/step - loss: 0.0129 - accuracy: 0.9951 - val_loss: 0.5451 - val_accuracy: 0.9444\n",
      "Epoch 102/149\n",
      "10/10 [==============================] - 371s 37s/step - loss: 0.0058 - accuracy: 0.9967 - val_loss: 0.6818 - val_accuracy: 0.9028\n",
      "Epoch 103/149\n",
      "10/10 [==============================] - 415s 41s/step - loss: 0.0073 - accuracy: 0.9967 - val_loss: 0.6579 - val_accuracy: 0.9306\n",
      "Epoch 104/149\n",
      "10/10 [==============================] - 417s 42s/step - loss: 0.0117 - accuracy: 0.9967 - val_loss: 0.7626 - val_accuracy: 0.8889\n",
      "Epoch 105/149\n",
      "10/10 [==============================] - 443s 44s/step - loss: 0.0090 - accuracy: 0.9967 - val_loss: 0.7707 - val_accuracy: 0.9306\n",
      "Epoch 106/149\n",
      "10/10 [==============================] - 424s 42s/step - loss: 0.0060 - accuracy: 0.9984 - val_loss: 0.7190 - val_accuracy: 0.9167\n",
      "Epoch 107/149\n",
      "10/10 [==============================] - 368s 37s/step - loss: 0.0098 - accuracy: 0.9951 - val_loss: 0.5520 - val_accuracy: 0.8750\n",
      "Epoch 108/149\n",
      "10/10 [==============================] - 365s 38s/step - loss: 0.0317 - accuracy: 0.9902 - val_loss: 0.5545 - val_accuracy: 0.9167\n",
      "Epoch 109/149\n",
      "10/10 [==============================] - 366s 36s/step - loss: 0.0046 - accuracy: 1.0000 - val_loss: 0.5964 - val_accuracy: 0.9167\n",
      "Epoch 110/149\n",
      "10/10 [==============================] - 366s 36s/step - loss: 0.0077 - accuracy: 0.9984 - val_loss: 0.6412 - val_accuracy: 0.9167\n",
      "Epoch 111/149\n",
      "10/10 [==============================] - 367s 37s/step - loss: 0.0106 - accuracy: 0.9967 - val_loss: 0.6694 - val_accuracy: 0.9028\n",
      "Epoch 112/149\n",
      "10/10 [==============================] - 366s 36s/step - loss: 0.0072 - accuracy: 0.9984 - val_loss: 0.6959 - val_accuracy: 0.9167\n",
      "Epoch 113/149\n",
      "10/10 [==============================] - 365s 36s/step - loss: 0.0090 - accuracy: 0.9967 - val_loss: 0.6264 - val_accuracy: 0.9167\n",
      "Epoch 114/149\n",
      "10/10 [==============================] - 365s 36s/step - loss: 0.0090 - accuracy: 0.9984 - val_loss: 0.5088 - val_accuracy: 0.9444\n",
      "Epoch 115/149\n",
      "10/10 [==============================] - 366s 36s/step - loss: 0.0068 - accuracy: 0.9967 - val_loss: 0.6752 - val_accuracy: 0.9306\n",
      "Epoch 116/149\n",
      "10/10 [==============================] - 366s 37s/step - loss: 0.0028 - accuracy: 1.0000 - val_loss: 0.6097 - val_accuracy: 0.9444\n",
      "Epoch 117/149\n",
      "10/10 [==============================] - 367s 37s/step - loss: 0.0027 - accuracy: 0.9984 - val_loss: 0.5467 - val_accuracy: 0.9444\n",
      "Epoch 118/149\n",
      "10/10 [==============================] - 367s 36s/step - loss: 0.0064 - accuracy: 0.9967 - val_loss: 0.5910 - val_accuracy: 0.9444\n",
      "Epoch 119/149\n",
      "10/10 [==============================] - 365s 36s/step - loss: 0.0099 - accuracy: 0.9951 - val_loss: 0.4514 - val_accuracy: 0.9306\n",
      "Epoch 120/149\n",
      "10/10 [==============================] - 366s 36s/step - loss: 0.0097 - accuracy: 0.9951 - val_loss: 0.5268 - val_accuracy: 0.9444\n",
      "Epoch 121/149\n",
      "10/10 [==============================] - 366s 36s/step - loss: 0.0146 - accuracy: 0.9967 - val_loss: 0.5840 - val_accuracy: 0.9167\n",
      "Epoch 122/149\n",
      "10/10 [==============================] - 365s 36s/step - loss: 0.0060 - accuracy: 0.9984 - val_loss: 0.7289 - val_accuracy: 0.9444\n",
      "Epoch 123/149\n",
      "10/10 [==============================] - 366s 36s/step - loss: 0.0054 - accuracy: 0.9984 - val_loss: 0.6554 - val_accuracy: 0.9306\n",
      "Epoch 124/149\n",
      "10/10 [==============================] - 365s 36s/step - loss: 0.0101 - accuracy: 0.9967 - val_loss: 0.5111 - val_accuracy: 0.9306\n",
      "Epoch 125/149\n",
      "10/10 [==============================] - 366s 36s/step - loss: 0.0041 - accuracy: 0.9984 - val_loss: 0.5018 - val_accuracy: 0.9306\n",
      "Epoch 126/149\n",
      "10/10 [==============================] - 365s 36s/step - loss: 0.0060 - accuracy: 0.9967 - val_loss: 0.5983 - val_accuracy: 0.9444\n",
      "Epoch 127/149\n",
      "10/10 [==============================] - 364s 36s/step - loss: 0.0047 - accuracy: 0.9984 - val_loss: 0.6288 - val_accuracy: 0.9306\n",
      "Epoch 128/149\n",
      "10/10 [==============================] - 365s 36s/step - loss: 0.0027 - accuracy: 1.0000 - val_loss: 0.6190 - val_accuracy: 0.9306\n",
      "Epoch 129/149\n",
      "10/10 [==============================] - 365s 36s/step - loss: 0.0021 - accuracy: 1.0000 - val_loss: 0.5716 - val_accuracy: 0.9306\n",
      "Epoch 130/149\n",
      "10/10 [==============================] - 366s 36s/step - loss: 0.0075 - accuracy: 0.9984 - val_loss: 0.5666 - val_accuracy: 0.9306\n",
      "Epoch 131/149\n",
      "10/10 [==============================] - 365s 36s/step - loss: 0.0151 - accuracy: 0.9967 - val_loss: 0.5831 - val_accuracy: 0.9444\n",
      "Epoch 132/149\n",
      "10/10 [==============================] - 365s 38s/step - loss: 0.0031 - accuracy: 1.0000 - val_loss: 0.5992 - val_accuracy: 0.9444\n",
      "Epoch 133/149\n",
      "10/10 [==============================] - 365s 36s/step - loss: 0.0050 - accuracy: 0.9984 - val_loss: 0.6134 - val_accuracy: 0.9306\n",
      "Epoch 134/149\n",
      "10/10 [==============================] - 365s 36s/step - loss: 0.0041 - accuracy: 0.9967 - val_loss: 0.5563 - val_accuracy: 0.9444\n",
      "Epoch 135/149\n",
      "10/10 [==============================] - 368s 37s/step - loss: 0.0035 - accuracy: 0.9967 - val_loss: 0.5583 - val_accuracy: 0.9444\n",
      "Epoch 136/149\n",
      "10/10 [==============================] - 367s 37s/step - loss: 0.0048 - accuracy: 0.9984 - val_loss: 0.5662 - val_accuracy: 0.9306\n",
      "Epoch 137/149\n",
      "10/10 [==============================] - 366s 36s/step - loss: 0.0065 - accuracy: 0.9984 - val_loss: 0.5058 - val_accuracy: 0.9306\n",
      "Epoch 138/149\n",
      "10/10 [==============================] - 365s 36s/step - loss: 0.0056 - accuracy: 0.9951 - val_loss: 0.6325 - val_accuracy: 0.8889\n",
      "Epoch 139/149\n",
      "10/10 [==============================] - 366s 37s/step - loss: 0.0052 - accuracy: 0.9967 - val_loss: 0.6054 - val_accuracy: 0.9028\n",
      "Epoch 140/149\n",
      "10/10 [==============================] - 365s 36s/step - loss: 0.0065 - accuracy: 0.9967 - val_loss: 0.6132 - val_accuracy: 0.9444\n",
      "Epoch 141/149\n",
      "10/10 [==============================] - 366s 36s/step - loss: 0.0039 - accuracy: 0.9984 - val_loss: 0.5566 - val_accuracy: 0.9444\n",
      "Epoch 142/149\n",
      "10/10 [==============================] - 365s 36s/step - loss: 0.0077 - accuracy: 0.9967 - val_loss: 0.5292 - val_accuracy: 0.9306\n",
      "Epoch 143/149\n",
      "10/10 [==============================] - 363s 36s/step - loss: 0.0045 - accuracy: 0.9984 - val_loss: 0.7031 - val_accuracy: 0.9306\n",
      "Epoch 144/149\n",
      "10/10 [==============================] - 367s 37s/step - loss: 0.0058 - accuracy: 0.9984 - val_loss: 0.5430 - val_accuracy: 0.9444\n",
      "Epoch 145/149\n",
      "10/10 [==============================] - 368s 37s/step - loss: 0.0122 - accuracy: 0.9984 - val_loss: 0.5311 - val_accuracy: 0.9444\n",
      "Epoch 146/149\n",
      "10/10 [==============================] - 367s 37s/step - loss: 0.0058 - accuracy: 0.9984 - val_loss: 0.6545 - val_accuracy: 0.9306\n",
      "Epoch 147/149\n",
      "10/10 [==============================] - 366s 36s/step - loss: 0.0072 - accuracy: 0.9967 - val_loss: 0.5335 - val_accuracy: 0.9444\n",
      "Epoch 148/149\n",
      "10/10 [==============================] - 366s 36s/step - loss: 0.0079 - accuracy: 0.9951 - val_loss: 0.5454 - val_accuracy: 0.9167\n",
      "Epoch 149/149\n",
      "10/10 [==============================] - 366s 37s/step - loss: 0.0091 - accuracy: 0.9967 - val_loss: 0.5512 - val_accuracy: 0.9306\n"
     ]
    }
   ],
   "source": [
    "from keras.applications import VGG16\n",
    "from keras.models import Model\n",
    "from keras.layers import Input, Conv2D, BatchNormalization, Activation, Add, Flatten, Dense, GlobalAveragePooling2D, Reshape, Multiply\n",
    "\n",
    "def squeeze_excitation_block(input, ratio=16):\n",
    "    init = input\n",
    "    channel_axis = -1\n",
    "    filters = init.shape[channel_axis]\n",
    "    se_shape = (1, 1, filters)\n",
    "\n",
    "    se = GlobalAveragePooling2D()(init)\n",
    "    se = Reshape(se_shape)(se)\n",
    "    se = Dense(filters // ratio, activation='relu', kernel_initializer='he_normal', use_bias=False)(se)\n",
    "    se = Dense(filters, activation='sigmoid', kernel_initializer='he_normal', use_bias=False)(se)\n",
    "\n",
    "    x = Multiply()([init, se])\n",
    "    return x\n",
    "\n",
    "def residual_block(x, filters, kernel_size, stride):\n",
    "    shortcut = x\n",
    "    x = Conv2D(filters, kernel_size, strides=stride, padding='same')(x)\n",
    "    x = BatchNormalization()(x)\n",
    "    x = Activation('relu')(x)\n",
    "    x = Conv2D(filters, kernel_size, padding='same')(x)\n",
    "    x = BatchNormalization()(x)\n",
    "    x = squeeze_excitation_block(x)\n",
    "    x = Add()([x, shortcut])\n",
    "    x = Activation('relu')(x)\n",
    "    return x\n",
    "\n",
    "input_tensor = Input(shape=(224, 224, 3))\n",
    "vgg16 = VGG16(include_top=False, weights='imagenet', input_tensor=input_tensor)\n",
    "\n",
    "x = vgg16.layers[-1].output\n",
    "x = residual_block(x, 512, 3, 1)\n",
    "x = residual_block(x, 512, 3, 1)\n",
    "x = BatchNormalization()(x)\n",
    "x = Flatten()(x)\n",
    "x = Dense(1024, activation='relu')(x)\n",
    "x = Dense(512, activation='relu')(x)\n",
    "predictions = Dense(4, activation='softmax')(x)\n",
    "model = Model(inputs=input_tensor, outputs=predictions)\n",
    "# model.summary()\n",
    "\n",
    "optimizer = tf.keras.optimizers.SGD()\n",
    "model.compile(optimizer=optimizer, loss='categorical_crossentropy', metrics=['accuracy'])\n",
    "\n",
    "epochs = 149\n",
    "history = model.fit(\n",
    "    train_generator,\n",
    "    validation_data=validation_generator,\n",
    "    epochs=epochs,\n",
    "    verbose=1\n",
    ")"
   ]
  },
  {
   "cell_type": "code",
   "execution_count": 5,
   "id": "3ac900d5",
   "metadata": {
    "papermill": {
     "duration": 7.946612,
     "end_time": "2024-05-16T17:22:47.688461",
     "exception": false,
     "start_time": "2024-05-16T17:22:39.741849",
     "status": "completed"
    },
    "tags": []
   },
   "outputs": [
    {
     "name": "stdout",
     "output_type": "stream",
     "text": [
      "5/5 [==============================] - 49s 10s/step - loss: 0.2501 - accuracy: 0.9460\n",
      "Test accuracy: 0.9460317492485046\n"
     ]
    }
   ],
   "source": [
    "test_loss, test_accuracy = model.evaluate(test_generator)\n",
    "print('Test accuracy:', test_accuracy)"
   ]
  },
  {
   "cell_type": "code",
   "execution_count": 6,
   "id": "b8cbc20a",
   "metadata": {
    "papermill": {
     "duration": 4.064308,
     "end_time": "2024-05-16T17:22:51.857387",
     "exception": false,
     "start_time": "2024-05-16T17:22:47.793079",
     "status": "completed"
    },
    "tags": []
   },
   "outputs": [
    {
     "name": "stdout",
     "output_type": "stream",
     "text": [
      "5/5 [==============================] - 53s 11s/step\n",
      "\n",
      "\n",
      "Confusion Matrix:\n",
      " [[106   3   3   8]\n",
      " [  0  50   0   1]\n",
      " [  1   0  53   0]\n",
      " [  0   0   1  89]]\n"
     ]
    },
    {
     "data": {
      "image/png": "[encoded data removed]",
      "text/plain": [
       "<Figure size 1000x400 with 2 Axes>"
      ]
     },
     "metadata": {},
     "output_type": "display_data"
    }
   ],
   "source": [
    "num_test_samples = len(test_generator)\n",
    "num_classes = len(test_generator.class_indices)\n",
    "predicted_probabilities = model.predict(test_generator, steps=num_test_samples)\n",
    "predicted_labels = np.argmax(predicted_probabilities, axis=1)\n",
    "true_labels = test_generator.classes\n",
    "cm = confusion_matrix(true_labels, predicted_labels)\n",
    "print(\"\\n\\nConfusion Matrix:\\n\", cm)\n",
    "\n",
    "plt.figure(figsize=(10,4))\n",
    "sns.heatmap(cm, annot=True, fmt='g', cmap='Reds')\n",
    "plt.xlabel('\\n\\nPredicted Label\\n')\n",
    "plt.ylabel('\\nTrue Label\\n')\n",
    "plt.title('Confusion Matrix\\n\\n')\n",
    "plt.show()"
   ]
  },
  {
   "cell_type": "code",
   "execution_count": 7,
   "id": "298123e3",
   "metadata": {
    "papermill": {
     "duration": 0.392994,
     "end_time": "2024-05-16T17:22:52.354650",
     "exception": false,
     "start_time": "2024-05-16T17:22:51.961656",
     "status": "completed"
    },
    "tags": []
   },
   "outputs": [
    {
     "data": {
      "image/png": "[encoded data removed]",
      "text/plain": [
       "<Figure size 640x480 with 1 Axes>"
      ]
     },
     "metadata": {},
     "output_type": "display_data"
    }
   ],
   "source": [
    "history_dict = history.history\n",
    "\n",
    "acc_values = history_dict['accuracy']\n",
    "val_acc_values = history_dict['val_accuracy']\n",
    "epochs = range(1, len(acc_values) + 1)\n",
    "\n",
    "line1 = plt.plot(epochs, val_acc_values, label = 'Validation/Test Accuracy')\n",
    "line2 = plt.plot(epochs, acc_values, label = 'Training Accuracy')\n",
    "\n",
    "# plt.setp(line1)\n",
    "# plt.setp(line2)\n",
    "plt.xlabel('Epochs')\n",
    "plt.ylabel('Accuracy')\n",
    "plt.grid(True)\n",
    "plt.legend()\n",
    "plt.show()"
   ]
  },
  {
   "cell_type": "code",
   "execution_count": 8,
   "id": "36667762",
   "metadata": {
    "papermill": {
     "duration": 0.370046,
     "end_time": "2024-05-16T17:22:52.829901",
     "exception": false,
     "start_time": "2024-05-16T17:22:52.459855",
     "status": "completed"
    },
    "tags": []
   },
   "outputs": [
    {
     "data": {
      "image/png": "[encoded data removed]",
      "text/plain": [
       "<Figure size 640x480 with 1 Axes>"
      ]
     },
     "metadata": {},
     "output_type": "display_data"
    }
   ],
   "source": [
    "history_dict = history.history\n",
    "\n",
    "loss_values = history_dict['loss']\n",
    "val_loss_values = history_dict['val_loss']\n",
    "epochs = range(1, len(loss_values) + 1)\n",
    "\n",
    "line1 = plt.plot(epochs, val_loss_values, label = 'Validation/Test Loss')\n",
    "line2 = plt.plot(epochs, loss_values, label = 'Training Loss')\n",
    "\n",
    "# plt.setp(line1)\n",
    "# plt.setp(line2)\n",
    "plt.xlabel('Epochs')\n",
    "plt.ylabel('Loss')\n",
    "plt.grid(True)\n",
    "plt.legend()\n",
    "plt.show()"
   ]
  },
  {
   "cell_type": "code",
   "execution_count": 9,
   "id": "11cdaeee-b333-40d1-a537-7ff841ff3181",
   "metadata": {},
   "outputs": [
    {
     "name": "stdout",
     "output_type": "stream",
     "text": [
      "              precision    recall  f1-score   support\n",
      "\n",
      "           0       0.99      0.88      0.93       120\n",
      "           1       0.94      0.98      0.96        51\n",
      "           2       0.93      0.98      0.95        54\n",
      "           3       0.91      0.99      0.95        90\n",
      "\n",
      "    accuracy                           0.95       315\n",
      "   macro avg       0.94      0.96      0.95       315\n",
      "weighted avg       0.95      0.95      0.95       315\n",
      "\n"
     ]
    }
   ],
   "source": [
    "report = classification_report(true_labels, predicted_labels)\n",
    "print(report)"
   ]
  }
 ],
 "metadata": {
  "kaggle": {
   "accelerator": "gpu",
   "dataSources": [
    {
     "datasetId": 839140,
     "sourceId": 1432479,
     "sourceType": "datasetVersion"
    }
   ],
   "dockerImageVersionId": 30512,
   "isGpuEnabled": true,
   "isInternetEnabled": true,
   "language": "python",
   "sourceType": "notebook"
  },
  "kernelspec": {
   "display_name": "Python 3 (ipykernel)",
   "language": "python",
   "name": "python3"
  },
  "language_info": {
   "codemirror_mode": {
    "name": "ipython",
    "version": 3
   },
   "file_extension": ".py",
   "mimetype": "text/x-python",
   "name": "python",
   "nbconvert_exporter": "python",
   "pygments_lexer": "ipython3",
   "version": "3.8.10"
  },
  "papermill": {
   "default_parameters": {},
   "duration": 1142.248544,
   "end_time": "2024-05-16T17:22:56.257919",
   "environment_variables": {},
   "exception": null,
   "input_path": "__notebook__.ipynb",
   "output_path": "__notebook__.ipynb",
   "parameters": {},
   "start_time": "2024-05-16T17:03:54.009375",
   "version": "2.4.0"
  }
 },
 "nbformat": 4,
 "nbformat_minor": 5
}
