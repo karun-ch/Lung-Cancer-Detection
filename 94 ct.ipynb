{
 "cells": [
  {
   "cell_type": "code",
   "execution_count": null,
   "id": "86c6b5cd-4299-44c6-adb2-c6ff642602c3",
   "metadata": {},
   "outputs": [],
   "source": []
  },
  {
   "cell_type": "code",
   "execution_count": 12,
   "id": "9e569b99",
   "metadata": {
    "_cell_guid": "b1076dfc-b9ad-4769-8c92-a6c4dae69d19",
    "_uuid": "8f2839f25d086af736a60e9eeb907d3b93b6e0e5",
    "papermill": {
     "duration": 10.64553,
     "end_time": "2024-05-16T17:04:15.441102",
     "exception": false,
     "start_time": "2024-05-16T17:04:04.795572",
     "status": "completed"
    },
    "tags": []
   },
   "outputs": [],
   "source": [
    "# This Python 3 environment comes with many helpful analytics libraries installed\n",
    "# It is defined by the kaggle/python Docker image: https://github.com/kaggle/docker-python\n",
    "# For example, here's several helpful packages to load\n",
    "\n",
    "import numpy as np # linear algebra\n",
    "import pandas as pd # data processing, CSV file I/O (e.g. pd.read_csv)\n",
    "import cv2\n",
    "import keras\n",
    "from numpy import random\n",
    "\n",
    "import tensorflow as tf\n",
    "\n",
    "# import tensorflow_datasets as tfds\n",
    "from matplotlib import pyplot as plt\n",
    "from keras.models import Sequential, Model\n",
    "from keras.layers import Dense, Dropout, Flatten, Conv2D\n",
    "from keras.layers import MaxPooling2D, BatchNormalization\n",
    "from keras.optimizers import SGD\n",
    "import np_utils\n",
    "from keras.applications import MobileNet, VGG16, ResNet50\n",
    "from tensorflow.keras.applications.resnet50 import preprocess_input\n",
    "from keras.callbacks import ModelCheckpoint, EarlyStopping, ReduceLROnPlateau\n",
    "from sklearn.metrics import precision_score, recall_score, accuracy_score\n",
    "from sklearn.metrics import classification_report ,confusion_matrix\n",
    "from tensorflow.keras.preprocessing.image import ImageDataGenerator\n",
    "from sklearn.model_selection import train_test_split\n",
    "import seaborn as sns\n",
    "\n",
    "# Input data files are available in the read-only \"../input/\" directory\n",
    "# For example, running this (by clicking run or pressing Shift+Enter) will list all files under the input directory\n",
    "\n",
    "import os\n",
    "\n",
    "\n",
    "# You can write up to 20GB to the current directory (/kaggle/working/) that gets preserved as output when you create a version using \"Save & Run All\" \n",
    "# You can also write temporary files to /kaggle/temp/, but they won't be saved outside of the current session"
   ]
  },
  {
   "cell_type": "markdown",
   "id": "8ecf9e0c",
   "metadata": {
    "papermill": {
     "duration": 0.003976,
     "end_time": "2024-05-16T17:04:15.449749",
     "exception": false,
     "start_time": "2024-05-16T17:04:15.445773",
     "status": "completed"
    },
    "tags": []
   },
   "source": [
    "* **Directory of dataset**"
   ]
  },
  {
   "cell_type": "code",
   "execution_count": 13,
   "id": "7a68e7ec",
   "metadata": {
    "papermill": {
     "duration": 0.012028,
     "end_time": "2024-05-16T17:04:15.465943",
     "exception": false,
     "start_time": "2024-05-16T17:04:15.453915",
     "status": "completed"
    },
    "tags": []
   },
   "outputs": [],
   "source": [
    "# Directory of train, validation and test\n",
    "\n",
    "train_folder = \"Data/train/\"\n",
    "valid_folder = \"Data/valid/\"\n",
    "test_folder = \"Data/test/\"\n"
   ]
  },
  {
   "cell_type": "code",
   "execution_count": 14,
   "id": "8986679d",
   "metadata": {
    "papermill": {
     "duration": 0.08688,
     "end_time": "2024-05-16T17:04:15.556821",
     "exception": false,
     "start_time": "2024-05-16T17:04:15.469941",
     "status": "completed"
    },
    "scrolled": true,
    "tags": []
   },
   "outputs": [
    {
     "name": "stdout",
     "output_type": "stream",
     "text": [
      "Found 613 images belonging to 4 classes.\n",
      "Found 315 images belonging to 4 classes.\n",
      "Found 72 images belonging to 4 classes.\n"
     ]
    }
   ],
   "source": [
    "input_shape = (224,224,3)\n",
    "num_classes = 4\n",
    "\n",
    "train_datagen = ImageDataGenerator(\n",
    "    dtype='float32',\n",
    "    rotation_range=10,\n",
    "    width_shift_range=0.2,\n",
    "    height_shift_range=0.2,\n",
    "    shear_range=0.2,\n",
    "    zoom_range=0.2,\n",
    "    horizontal_flip=True,\n",
    "    vertical_flip=False\n",
    ")\n",
    "val_datagen = ImageDataGenerator(\n",
    "    dtype='float32',\n",
    "\n",
    ")\n",
    "test_datagen = ImageDataGenerator(\n",
    "    dtype='float32',\n",
    ")\n",
    "\n",
    "train_generator = train_datagen.flow_from_directory(\n",
    "    train_folder,\n",
    "    target_size=(224,224),\n",
    "    batch_size=64,\n",
    "    class_mode='categorical',\n",
    ")\n",
    "\n",
    "\n",
    "test_generator = test_datagen.flow_from_directory(\n",
    "    test_folder,\n",
    "    target_size=(224,224),\n",
    "    batch_size=64,\n",
    "    class_mode='categorical',\n",
    "    shuffle = False,\n",
    ")\n",
    "validation_generator = val_datagen.flow_from_directory(\n",
    "    valid_folder,\n",
    "    target_size=(224,224),\n",
    "    batch_size=64,\n",
    "    class_mode='categorical',\n",
    ")"
   ]
  },
  {
   "cell_type": "markdown",
   "id": "a6711043",
   "metadata": {
    "papermill": {
     "duration": 0.004018,
     "end_time": "2024-05-16T17:04:15.565242",
     "exception": false,
     "start_time": "2024-05-16T17:04:15.561224",
     "status": "completed"
    },
    "tags": []
   },
   "source": [
    "# SERES_VGG16"
   ]
  },
  {
   "cell_type": "markdown",
   "id": "066391db",
   "metadata": {
    "papermill": {
     "duration": 0.003986,
     "end_time": "2024-05-16T17:04:15.573496",
     "exception": false,
     "start_time": "2024-05-16T17:04:15.569510",
     "status": "completed"
    },
    "tags": []
   },
   "source": [
    "* **Integrating the SE Block into the Residual Block and Incorporating it into the Last Two Output Layers of a Pre-trained VGG16 Model**"
   ]
  },
  {
   "cell_type": "code",
   "execution_count": 15,
   "id": "a520577e",
   "metadata": {
    "papermill": {
     "duration": 1104.058955,
     "end_time": "2024-05-16T17:22:39.636566",
     "exception": false,
     "start_time": "2024-05-16T17:04:15.577611",
     "status": "completed"
    },
    "tags": []
   },
   "outputs": [
    {
     "name": "stderr",
     "output_type": "stream",
     "text": [
      "C:\\Program Files\\Python310\\lib\\site-packages\\keras\\src\\trainers\\data_adapters\\py_dataset_adapter.py:121: UserWarning: Your `PyDataset` class should call `super().__init__(**kwargs)` in its constructor. `**kwargs` can include `workers`, `use_multiprocessing`, `max_queue_size`. Do not pass these arguments to `fit()`, as they will be ignored.\n",
      "  self._warn_if_super_not_called()\n"
     ]
    },
    {
     "name": "stdout",
     "output_type": "stream",
     "text": [
      "Epoch 1/149\n",
      "\u001b[1m10/10\u001b[0m \u001b[32m━━━━━━━━━━━━━━━━━━━━\u001b[0m\u001b[37m\u001b[0m \u001b[1m323s\u001b[0m 32s/step - accuracy: 0.3357 - loss: 1.4808 - val_accuracy: 0.2083 - val_loss: 7.1520\n",
      "Epoch 2/149\n",
      "\u001b[1m10/10\u001b[0m \u001b[32m━━━━━━━━━━━━━━━━━━━━\u001b[0m\u001b[37m\u001b[0m \u001b[1m314s\u001b[0m 31s/step - accuracy: 0.5192 - loss: 1.2264 - val_accuracy: 0.1806 - val_loss: 8.7938\n",
      "Epoch 3/149\n",
      "\u001b[1m10/10\u001b[0m \u001b[32m━━━━━━━━━━━━━━━━━━━━\u001b[0m\u001b[37m\u001b[0m \u001b[1m314s\u001b[0m 31s/step - accuracy: 0.6166 - loss: 0.9251 - val_accuracy: 0.1806 - val_loss: 10.2505\n",
      "Epoch 4/149\n",
      "\u001b[1m10/10\u001b[0m \u001b[32m━━━━━━━━━━━━━━━━━━━━\u001b[0m\u001b[37m\u001b[0m \u001b[1m318s\u001b[0m 33s/step - accuracy: 0.5452 - loss: 1.0370 - val_accuracy: 0.1806 - val_loss: 4.7223\n",
      "Epoch 5/149\n",
      "\u001b[1m10/10\u001b[0m \u001b[32m━━━━━━━━━━━━━━━━━━━━\u001b[0m\u001b[37m\u001b[0m \u001b[1m320s\u001b[0m 33s/step - accuracy: 0.6940 - loss: 0.7299 - val_accuracy: 0.4444 - val_loss: 1.3964\n",
      "Epoch 6/149\n",
      "\u001b[1m10/10\u001b[0m \u001b[32m━━━━━━━━━━━━━━━━━━━━\u001b[0m\u001b[37m\u001b[0m \u001b[1m320s\u001b[0m 32s/step - accuracy: 0.6846 - loss: 0.7509 - val_accuracy: 0.4722 - val_loss: 1.1256\n",
      "Epoch 7/149\n",
      "\u001b[1m10/10\u001b[0m \u001b[32m━━━━━━━━━━━━━━━━━━━━\u001b[0m\u001b[37m\u001b[0m \u001b[1m319s\u001b[0m 32s/step - accuracy: 0.6636 - loss: 0.7049 - val_accuracy: 0.2778 - val_loss: 3.0691\n",
      "Epoch 8/149\n",
      "\u001b[1m10/10\u001b[0m \u001b[32m━━━━━━━━━━━━━━━━━━━━\u001b[0m\u001b[37m\u001b[0m \u001b[1m320s\u001b[0m 32s/step - accuracy: 0.7356 - loss: 0.5892 - val_accuracy: 0.2778 - val_loss: 1.7302\n",
      "Epoch 9/149\n",
      "\u001b[1m10/10\u001b[0m \u001b[32m━━━━━━━━━━━━━━━━━━━━\u001b[0m\u001b[37m\u001b[0m \u001b[1m316s\u001b[0m 31s/step - accuracy: 0.7304 - loss: 0.6484 - val_accuracy: 0.4167 - val_loss: 1.9862\n",
      "Epoch 10/149\n",
      "\u001b[1m10/10\u001b[0m \u001b[32m━━━━━━━━━━━━━━━━━━━━\u001b[0m\u001b[37m\u001b[0m \u001b[1m315s\u001b[0m 31s/step - accuracy: 0.7561 - loss: 0.5649 - val_accuracy: 0.4861 - val_loss: 1.2579\n",
      "Epoch 11/149\n",
      "\u001b[1m10/10\u001b[0m \u001b[32m━━━━━━━━━━━━━━━━━━━━\u001b[0m\u001b[37m\u001b[0m \u001b[1m318s\u001b[0m 32s/step - accuracy: 0.8000 - loss: 0.5126 - val_accuracy: 0.7083 - val_loss: 0.7155\n",
      "Epoch 12/149\n",
      "\u001b[1m10/10\u001b[0m \u001b[32m━━━━━━━━━━━━━━━━━━━━\u001b[0m\u001b[37m\u001b[0m \u001b[1m320s\u001b[0m 32s/step - accuracy: 0.7594 - loss: 0.5278 - val_accuracy: 0.6806 - val_loss: 0.7575\n",
      "Epoch 13/149\n",
      "\u001b[1m10/10\u001b[0m \u001b[32m━━━━━━━━━━━━━━━━━━━━\u001b[0m\u001b[37m\u001b[0m \u001b[1m320s\u001b[0m 32s/step - accuracy: 0.8530 - loss: 0.3802 - val_accuracy: 0.5694 - val_loss: 1.0026\n",
      "Epoch 14/149\n",
      "\u001b[1m10/10\u001b[0m \u001b[32m━━━━━━━━━━━━━━━━━━━━\u001b[0m\u001b[37m\u001b[0m \u001b[1m318s\u001b[0m 32s/step - accuracy: 0.8069 - loss: 0.4537 - val_accuracy: 0.5694 - val_loss: 1.2031\n",
      "Epoch 15/149\n",
      "\u001b[1m10/10\u001b[0m \u001b[32m━━━━━━━━━━━━━━━━━━━━\u001b[0m\u001b[37m\u001b[0m \u001b[1m318s\u001b[0m 32s/step - accuracy: 0.9073 - loss: 0.3120 - val_accuracy: 0.7917 - val_loss: 0.6156\n",
      "Epoch 16/149\n",
      "\u001b[1m10/10\u001b[0m \u001b[32m━━━━━━━━━━━━━━━━━━━━\u001b[0m\u001b[37m\u001b[0m \u001b[1m321s\u001b[0m 32s/step - accuracy: 0.8864 - loss: 0.2924 - val_accuracy: 0.7222 - val_loss: 0.7263\n",
      "Epoch 17/149\n",
      "\u001b[1m10/10\u001b[0m \u001b[32m━━━━━━━━━━━━━━━━━━━━\u001b[0m\u001b[37m\u001b[0m \u001b[1m323s\u001b[0m 32s/step - accuracy: 0.9186 - loss: 0.2313 - val_accuracy: 0.6528 - val_loss: 0.8387\n",
      "Epoch 18/149\n",
      "\u001b[1m10/10\u001b[0m \u001b[32m━━━━━━━━━━━━━━━━━━━━\u001b[0m\u001b[37m\u001b[0m \u001b[1m318s\u001b[0m 32s/step - accuracy: 0.9175 - loss: 0.2229 - val_accuracy: 0.7917 - val_loss: 0.7255\n",
      "Epoch 19/149\n",
      "\u001b[1m10/10\u001b[0m \u001b[32m━━━━━━━━━━━━━━━━━━━━\u001b[0m\u001b[37m\u001b[0m \u001b[1m320s\u001b[0m 32s/step - accuracy: 0.9266 - loss: 0.2229 - val_accuracy: 0.7083 - val_loss: 1.2061\n",
      "Epoch 20/149\n",
      "\u001b[1m10/10\u001b[0m \u001b[32m━━━━━━━━━━━━━━━━━━━━\u001b[0m\u001b[37m\u001b[0m \u001b[1m325s\u001b[0m 32s/step - accuracy: 0.9440 - loss: 0.1580 - val_accuracy: 0.7361 - val_loss: 1.1314\n",
      "Epoch 21/149\n",
      "\u001b[1m10/10\u001b[0m \u001b[32m━━━━━━━━━━━━━━━━━━━━\u001b[0m\u001b[37m\u001b[0m \u001b[1m319s\u001b[0m 32s/step - accuracy: 0.9183 - loss: 0.2115 - val_accuracy: 0.3194 - val_loss: 3.9222\n",
      "Epoch 22/149\n",
      "\u001b[1m10/10\u001b[0m \u001b[32m━━━━━━━━━━━━━━━━━━━━\u001b[0m\u001b[37m\u001b[0m \u001b[1m318s\u001b[0m 33s/step - accuracy: 0.7517 - loss: 0.6274 - val_accuracy: 0.6944 - val_loss: 0.6929\n",
      "Epoch 23/149\n",
      "\u001b[1m10/10\u001b[0m \u001b[32m━━━━━━━━━━━━━━━━━━━━\u001b[0m\u001b[37m\u001b[0m \u001b[1m323s\u001b[0m 34s/step - accuracy: 0.9465 - loss: 0.1972 - val_accuracy: 0.7917 - val_loss: 0.6752\n",
      "Epoch 24/149\n",
      "\u001b[1m10/10\u001b[0m \u001b[32m━━━━━━━━━━━━━━━━━━━━\u001b[0m\u001b[37m\u001b[0m \u001b[1m322s\u001b[0m 32s/step - accuracy: 0.9407 - loss: 0.1705 - val_accuracy: 0.6528 - val_loss: 1.1491\n",
      "Epoch 25/149\n",
      "\u001b[1m10/10\u001b[0m \u001b[32m━━━━━━━━━━━━━━━━━━━━\u001b[0m\u001b[37m\u001b[0m \u001b[1m322s\u001b[0m 32s/step - accuracy: 0.9173 - loss: 0.2204 - val_accuracy: 0.8056 - val_loss: 0.7137\n",
      "Epoch 26/149\n",
      "\u001b[1m10/10\u001b[0m \u001b[32m━━━━━━━━━━━━━━━━━━━━\u001b[0m\u001b[37m\u001b[0m \u001b[1m323s\u001b[0m 32s/step - accuracy: 0.9520 - loss: 0.1232 - val_accuracy: 0.5694 - val_loss: 1.2879\n",
      "Epoch 27/149\n",
      "\u001b[1m10/10\u001b[0m \u001b[32m━━━━━━━━━━━━━━━━━━━━\u001b[0m\u001b[37m\u001b[0m \u001b[1m320s\u001b[0m 32s/step - accuracy: 0.9604 - loss: 0.0980 - val_accuracy: 0.8056 - val_loss: 0.7257\n",
      "Epoch 28/149\n",
      "\u001b[1m10/10\u001b[0m \u001b[32m━━━━━━━━━━━━━━━━━━━━\u001b[0m\u001b[37m\u001b[0m \u001b[1m318s\u001b[0m 32s/step - accuracy: 0.9899 - loss: 0.0520 - val_accuracy: 0.8194 - val_loss: 0.6686\n",
      "Epoch 29/149\n",
      "\u001b[1m10/10\u001b[0m \u001b[32m━━━━━━━━━━━━━━━━━━━━\u001b[0m\u001b[37m\u001b[0m \u001b[1m315s\u001b[0m 31s/step - accuracy: 0.9807 - loss: 0.0896 - val_accuracy: 0.8472 - val_loss: 0.7512\n",
      "Epoch 30/149\n",
      "\u001b[1m10/10\u001b[0m \u001b[32m━━━━━━━━━━━━━━━━━━━━\u001b[0m\u001b[37m\u001b[0m \u001b[1m322s\u001b[0m 32s/step - accuracy: 0.9774 - loss: 0.0744 - val_accuracy: 0.5556 - val_loss: 1.9179\n",
      "Epoch 31/149\n",
      "\u001b[1m10/10\u001b[0m \u001b[32m━━━━━━━━━━━━━━━━━━━━\u001b[0m\u001b[37m\u001b[0m \u001b[1m322s\u001b[0m 32s/step - accuracy: 0.9868 - loss: 0.0611 - val_accuracy: 0.7778 - val_loss: 0.9749\n",
      "Epoch 32/149\n",
      "\u001b[1m10/10\u001b[0m \u001b[32m━━━━━━━━━━━━━━━━━━━━\u001b[0m\u001b[37m\u001b[0m \u001b[1m319s\u001b[0m 32s/step - accuracy: 0.9846 - loss: 0.0427 - val_accuracy: 0.8472 - val_loss: 0.8214\n",
      "Epoch 33/149\n",
      "\u001b[1m10/10\u001b[0m \u001b[32m━━━━━━━━━━━━━━━━━━━━\u001b[0m\u001b[37m\u001b[0m \u001b[1m320s\u001b[0m 32s/step - accuracy: 0.9750 - loss: 0.0582 - val_accuracy: 0.8750 - val_loss: 0.6535\n",
      "Epoch 34/149\n",
      "\u001b[1m10/10\u001b[0m \u001b[32m━━━━━━━━━━━━━━━━━━━━\u001b[0m\u001b[37m\u001b[0m \u001b[1m318s\u001b[0m 32s/step - accuracy: 0.9784 - loss: 0.0688 - val_accuracy: 0.8611 - val_loss: 0.8909\n",
      "Epoch 35/149\n",
      "\u001b[1m10/10\u001b[0m \u001b[32m━━━━━━━━━━━━━━━━━━━━\u001b[0m\u001b[37m\u001b[0m \u001b[1m320s\u001b[0m 32s/step - accuracy: 0.9866 - loss: 0.0324 - val_accuracy: 0.8056 - val_loss: 0.8443\n",
      "Epoch 36/149\n",
      "\u001b[1m10/10\u001b[0m \u001b[32m━━━━━━━━━━━━━━━━━━━━\u001b[0m\u001b[37m\u001b[0m \u001b[1m319s\u001b[0m 32s/step - accuracy: 0.9911 - loss: 0.0342 - val_accuracy: 0.8611 - val_loss: 0.6909\n",
      "Epoch 37/149\n",
      "\u001b[1m10/10\u001b[0m \u001b[32m━━━━━━━━━━━━━━━━━━━━\u001b[0m\u001b[37m\u001b[0m \u001b[1m319s\u001b[0m 33s/step - accuracy: 0.9960 - loss: 0.0189 - val_accuracy: 0.8472 - val_loss: 0.7172\n",
      "Epoch 38/149\n",
      "\u001b[1m10/10\u001b[0m \u001b[32m━━━━━━━━━━━━━━━━━━━━\u001b[0m\u001b[37m\u001b[0m \u001b[1m323s\u001b[0m 32s/step - accuracy: 0.9926 - loss: 0.0286 - val_accuracy: 0.8472 - val_loss: 0.8006\n",
      "Epoch 39/149\n",
      "\u001b[1m10/10\u001b[0m \u001b[32m━━━━━━━━━━━━━━━━━━━━\u001b[0m\u001b[37m\u001b[0m \u001b[1m321s\u001b[0m 32s/step - accuracy: 0.9888 - loss: 0.0265 - val_accuracy: 0.5556 - val_loss: 2.2722\n",
      "Epoch 40/149\n",
      "\u001b[1m10/10\u001b[0m \u001b[32m━━━━━━━━━━━━━━━━━━━━\u001b[0m\u001b[37m\u001b[0m \u001b[1m317s\u001b[0m 32s/step - accuracy: 0.9799 - loss: 0.0539 - val_accuracy: 0.8333 - val_loss: 0.7778\n",
      "Epoch 41/149\n",
      "\u001b[1m10/10\u001b[0m \u001b[32m━━━━━━━━━━━━━━━━━━━━\u001b[0m\u001b[37m\u001b[0m \u001b[1m318s\u001b[0m 32s/step - accuracy: 0.9734 - loss: 0.0605 - val_accuracy: 0.8472 - val_loss: 0.7654\n",
      "Epoch 42/149\n",
      "\u001b[1m10/10\u001b[0m \u001b[32m━━━━━━━━━━━━━━━━━━━━\u001b[0m\u001b[37m\u001b[0m \u001b[1m321s\u001b[0m 32s/step - accuracy: 0.9897 - loss: 0.0409 - val_accuracy: 0.8750 - val_loss: 0.8449\n",
      "Epoch 43/149\n",
      "\u001b[1m10/10\u001b[0m \u001b[32m━━━━━━━━━━━━━━━━━━━━\u001b[0m\u001b[37m\u001b[0m \u001b[1m319s\u001b[0m 32s/step - accuracy: 0.9951 - loss: 0.0185 - val_accuracy: 0.8611 - val_loss: 0.7355\n",
      "Epoch 44/149\n",
      "\u001b[1m10/10\u001b[0m \u001b[32m━━━━━━━━━━━━━━━━━━━━\u001b[0m\u001b[37m\u001b[0m \u001b[1m320s\u001b[0m 32s/step - accuracy: 0.9991 - loss: 0.0142 - val_accuracy: 0.8750 - val_loss: 0.6907\n",
      "Epoch 45/149\n",
      "\u001b[1m10/10\u001b[0m \u001b[32m━━━━━━━━━━━━━━━━━━━━\u001b[0m\u001b[37m\u001b[0m \u001b[1m318s\u001b[0m 32s/step - accuracy: 0.9928 - loss: 0.0228 - val_accuracy: 0.8750 - val_loss: 0.6845\n",
      "Epoch 46/149\n",
      "\u001b[1m10/10\u001b[0m \u001b[32m━━━━━━━━━━━━━━━━━━━━\u001b[0m\u001b[37m\u001b[0m \u001b[1m317s\u001b[0m 32s/step - accuracy: 0.9964 - loss: 0.0157 - val_accuracy: 0.8472 - val_loss: 0.7567\n",
      "Epoch 47/149\n",
      "\u001b[1m10/10\u001b[0m \u001b[32m━━━━━━━━━━━━━━━━━━━━\u001b[0m\u001b[37m\u001b[0m \u001b[1m320s\u001b[0m 32s/step - accuracy: 0.9964 - loss: 0.0154 - val_accuracy: 0.8472 - val_loss: 0.9865\n",
      "Epoch 48/149\n",
      "\u001b[1m10/10\u001b[0m \u001b[32m━━━━━━━━━━━━━━━━━━━━\u001b[0m\u001b[37m\u001b[0m \u001b[1m318s\u001b[0m 32s/step - accuracy: 0.9893 - loss: 0.0320 - val_accuracy: 0.8611 - val_loss: 0.9181\n",
      "Epoch 49/149\n",
      "\u001b[1m10/10\u001b[0m \u001b[32m━━━━━━━━━━━━━━━━━━━━\u001b[0m\u001b[37m\u001b[0m \u001b[1m316s\u001b[0m 31s/step - accuracy: 0.9957 - loss: 0.0150 - val_accuracy: 0.8750 - val_loss: 0.8009\n",
      "Epoch 50/149\n",
      "\u001b[1m10/10\u001b[0m \u001b[32m━━━━━━━━━━━━━━━━━━━━\u001b[0m\u001b[37m\u001b[0m \u001b[1m317s\u001b[0m 32s/step - accuracy: 0.9981 - loss: 0.0179 - val_accuracy: 0.8750 - val_loss: 0.8555\n",
      "Epoch 51/149\n",
      "\u001b[1m10/10\u001b[0m \u001b[32m━━━━━━━━━━━━━━━━━━━━\u001b[0m\u001b[37m\u001b[0m \u001b[1m314s\u001b[0m 31s/step - accuracy: 0.9945 - loss: 0.0185 - val_accuracy: 0.8333 - val_loss: 1.0756\n",
      "Epoch 52/149\n",
      "\u001b[1m10/10\u001b[0m \u001b[32m━━━━━━━━━━━━━━━━━━━━\u001b[0m\u001b[37m\u001b[0m \u001b[1m315s\u001b[0m 31s/step - accuracy: 0.9984 - loss: 0.0099 - val_accuracy: 0.9028 - val_loss: 0.7178\n",
      "Epoch 53/149\n",
      "\u001b[1m10/10\u001b[0m \u001b[32m━━━━━━━━━━━━━━━━━━━━\u001b[0m\u001b[37m\u001b[0m \u001b[1m324s\u001b[0m 32s/step - accuracy: 0.9965 - loss: 0.0165 - val_accuracy: 0.8750 - val_loss: 0.8423\n",
      "Epoch 54/149\n",
      "\u001b[1m10/10\u001b[0m \u001b[32m━━━━━━━━━━━━━━━━━━━━\u001b[0m\u001b[37m\u001b[0m \u001b[1m317s\u001b[0m 32s/step - accuracy: 0.9997 - loss: 0.0074 - val_accuracy: 0.8472 - val_loss: 0.9705\n",
      "Epoch 55/149\n",
      "\u001b[1m10/10\u001b[0m \u001b[32m━━━━━━━━━━━━━━━━━━━━\u001b[0m\u001b[37m\u001b[0m \u001b[1m318s\u001b[0m 32s/step - accuracy: 0.9988 - loss: 0.0101 - val_accuracy: 0.8472 - val_loss: 1.0865\n",
      "Epoch 56/149\n",
      "\u001b[1m10/10\u001b[0m \u001b[32m━━━━━━━━━━━━━━━━━━━━\u001b[0m\u001b[37m\u001b[0m \u001b[1m321s\u001b[0m 32s/step - accuracy: 0.9856 - loss: 0.0423 - val_accuracy: 0.8750 - val_loss: 0.9499\n",
      "Epoch 57/149\n",
      "\u001b[1m10/10\u001b[0m \u001b[32m━━━━━━━━━━━━━━━━━━━━\u001b[0m\u001b[37m\u001b[0m \u001b[1m320s\u001b[0m 32s/step - accuracy: 0.9962 - loss: 0.0129 - val_accuracy: 0.8750 - val_loss: 0.8660\n",
      "Epoch 58/149\n",
      "\u001b[1m10/10\u001b[0m \u001b[32m━━━━━━━━━━━━━━━━━━━━\u001b[0m\u001b[37m\u001b[0m \u001b[1m319s\u001b[0m 32s/step - accuracy: 0.9965 - loss: 0.0117 - val_accuracy: 0.8750 - val_loss: 1.0641\n",
      "Epoch 59/149\n",
      "\u001b[1m10/10\u001b[0m \u001b[32m━━━━━━━━━━━━━━━━━━━━\u001b[0m\u001b[37m\u001b[0m \u001b[1m317s\u001b[0m 31s/step - accuracy: 0.9949 - loss: 0.0096 - val_accuracy: 0.8611 - val_loss: 1.0384\n",
      "Epoch 60/149\n",
      "\u001b[1m10/10\u001b[0m \u001b[32m━━━━━━━━━━━━━━━━━━━━\u001b[0m\u001b[37m\u001b[0m \u001b[1m317s\u001b[0m 32s/step - accuracy: 0.9958 - loss: 0.0121 - val_accuracy: 0.8611 - val_loss: 1.1417\n",
      "Epoch 61/149\n",
      "\u001b[1m10/10\u001b[0m \u001b[32m━━━━━━━━━━━━━━━━━━━━\u001b[0m\u001b[37m\u001b[0m \u001b[1m407s\u001b[0m 42s/step - accuracy: 0.9957 - loss: 0.0305 - val_accuracy: 0.8750 - val_loss: 1.1878\n",
      "Epoch 62/149\n",
      "\u001b[1m10/10\u001b[0m \u001b[32m━━━━━━━━━━━━━━━━━━━━\u001b[0m\u001b[37m\u001b[0m \u001b[1m314s\u001b[0m 31s/step - accuracy: 0.9982 - loss: 0.0064 - val_accuracy: 0.8750 - val_loss: 0.8655\n",
      "Epoch 63/149\n",
      "\u001b[1m10/10\u001b[0m \u001b[32m━━━━━━━━━━━━━━━━━━━━\u001b[0m\u001b[37m\u001b[0m \u001b[1m315s\u001b[0m 31s/step - accuracy: 0.9976 - loss: 0.0095 - val_accuracy: 0.8750 - val_loss: 1.0871\n",
      "Epoch 64/149\n",
      "\u001b[1m10/10\u001b[0m \u001b[32m━━━━━━━━━━━━━━━━━━━━\u001b[0m\u001b[37m\u001b[0m \u001b[1m325s\u001b[0m 34s/step - accuracy: 0.9928 - loss: 0.0152 - val_accuracy: 0.8750 - val_loss: 1.0689\n",
      "Epoch 65/149\n",
      "\u001b[1m10/10\u001b[0m \u001b[32m━━━━━━━━━━━━━━━━━━━━\u001b[0m\u001b[37m\u001b[0m \u001b[1m320s\u001b[0m 32s/step - accuracy: 1.0000 - loss: 0.0037 - val_accuracy: 0.8750 - val_loss: 0.9095\n",
      "Epoch 66/149\n",
      "\u001b[1m10/10\u001b[0m \u001b[32m━━━━━━━━━━━━━━━━━━━━\u001b[0m\u001b[37m\u001b[0m \u001b[1m317s\u001b[0m 32s/step - accuracy: 0.9935 - loss: 0.0136 - val_accuracy: 0.8889 - val_loss: 0.8336\n",
      "Epoch 67/149\n",
      "\u001b[1m10/10\u001b[0m \u001b[32m━━━━━━━━━━━━━━━━━━━━\u001b[0m\u001b[37m\u001b[0m \u001b[1m318s\u001b[0m 32s/step - accuracy: 0.9985 - loss: 0.0089 - val_accuracy: 0.9028 - val_loss: 0.7176\n",
      "Epoch 68/149\n",
      "\u001b[1m10/10\u001b[0m \u001b[32m━━━━━━━━━━━━━━━━━━━━\u001b[0m\u001b[37m\u001b[0m \u001b[1m317s\u001b[0m 32s/step - accuracy: 0.9975 - loss: 0.0113 - val_accuracy: 0.6806 - val_loss: 2.2038\n",
      "Epoch 69/149\n",
      "\u001b[1m10/10\u001b[0m \u001b[32m━━━━━━━━━━━━━━━━━━━━\u001b[0m\u001b[37m\u001b[0m \u001b[1m321s\u001b[0m 32s/step - accuracy: 0.9971 - loss: 0.0195 - val_accuracy: 0.8611 - val_loss: 1.5281\n",
      "Epoch 70/149\n",
      "\u001b[1m10/10\u001b[0m \u001b[32m━━━━━━━━━━━━━━━━━━━━\u001b[0m\u001b[37m\u001b[0m \u001b[1m319s\u001b[0m 32s/step - accuracy: 0.9922 - loss: 0.0279 - val_accuracy: 0.8472 - val_loss: 1.1387\n",
      "Epoch 71/149\n",
      "\u001b[1m10/10\u001b[0m \u001b[32m━━━━━━━━━━━━━━━━━━━━\u001b[0m\u001b[37m\u001b[0m \u001b[1m318s\u001b[0m 32s/step - accuracy: 0.9944 - loss: 0.0240 - val_accuracy: 0.8889 - val_loss: 1.1321\n",
      "Epoch 72/149\n",
      "\u001b[1m10/10\u001b[0m \u001b[32m━━━━━━━━━━━━━━━━━━━━\u001b[0m\u001b[37m\u001b[0m \u001b[1m333s\u001b[0m 33s/step - accuracy: 0.9941 - loss: 0.0158 - val_accuracy: 0.8750 - val_loss: 1.1545\n",
      "Epoch 73/149\n",
      "\u001b[1m10/10\u001b[0m \u001b[32m━━━━━━━━━━━━━━━━━━━━\u001b[0m\u001b[37m\u001b[0m \u001b[1m321s\u001b[0m 34s/step - accuracy: 0.9982 - loss: 0.0102 - val_accuracy: 0.8611 - val_loss: 1.1428\n",
      "Epoch 74/149\n",
      "\u001b[1m10/10\u001b[0m \u001b[32m━━━━━━━━━━━━━━━━━━━━\u001b[0m\u001b[37m\u001b[0m \u001b[1m318s\u001b[0m 32s/step - accuracy: 0.9955 - loss: 0.0111 - val_accuracy: 0.8750 - val_loss: 1.2596\n",
      "Epoch 75/149\n",
      "\u001b[1m10/10\u001b[0m \u001b[32m━━━━━━━━━━━━━━━━━━━━\u001b[0m\u001b[37m\u001b[0m \u001b[1m321s\u001b[0m 32s/step - accuracy: 0.9925 - loss: 0.0133 - val_accuracy: 0.8750 - val_loss: 1.0269\n",
      "Epoch 76/149\n",
      "\u001b[1m10/10\u001b[0m \u001b[32m━━━━━━━━━━━━━━━━━━━━\u001b[0m\u001b[37m\u001b[0m \u001b[1m316s\u001b[0m 32s/step - accuracy: 0.9980 - loss: 0.0075 - val_accuracy: 0.8611 - val_loss: 1.0368\n",
      "Epoch 77/149\n",
      "\u001b[1m10/10\u001b[0m \u001b[32m━━━━━━━━━━━━━━━━━━━━\u001b[0m\u001b[37m\u001b[0m \u001b[1m318s\u001b[0m 33s/step - accuracy: 0.9995 - loss: 0.0042 - val_accuracy: 0.8750 - val_loss: 0.9714\n",
      "Epoch 78/149\n",
      "\u001b[1m10/10\u001b[0m \u001b[32m━━━━━━━━━━━━━━━━━━━━\u001b[0m\u001b[37m\u001b[0m \u001b[1m322s\u001b[0m 32s/step - accuracy: 0.9973 - loss: 0.0076 - val_accuracy: 0.8472 - val_loss: 1.1489\n",
      "Epoch 79/149\n",
      "\u001b[1m10/10\u001b[0m \u001b[32m━━━━━━━━━━━━━━━━━━━━\u001b[0m\u001b[37m\u001b[0m \u001b[1m318s\u001b[0m 32s/step - accuracy: 0.9848 - loss: 0.0547 - val_accuracy: 0.8611 - val_loss: 0.9410\n",
      "Epoch 80/149\n",
      "\u001b[1m10/10\u001b[0m \u001b[32m━━━━━━━━━━━━━━━━━━━━\u001b[0m\u001b[37m\u001b[0m \u001b[1m320s\u001b[0m 32s/step - accuracy: 0.9909 - loss: 0.0253 - val_accuracy: 0.8889 - val_loss: 0.9034\n",
      "Epoch 81/149\n",
      "\u001b[1m10/10\u001b[0m \u001b[32m━━━━━━━━━━━━━━━━━━━━\u001b[0m\u001b[37m\u001b[0m \u001b[1m318s\u001b[0m 32s/step - accuracy: 0.9994 - loss: 0.0057 - val_accuracy: 0.8889 - val_loss: 0.7302\n",
      "Epoch 82/149\n",
      "\u001b[1m10/10\u001b[0m \u001b[32m━━━━━━━━━━━━━━━━━━━━\u001b[0m\u001b[37m\u001b[0m \u001b[1m319s\u001b[0m 32s/step - accuracy: 0.9925 - loss: 0.0255 - val_accuracy: 0.9167 - val_loss: 0.6371\n",
      "Epoch 83/149\n",
      "\u001b[1m10/10\u001b[0m \u001b[32m━━━━━━━━━━━━━━━━━━━━\u001b[0m\u001b[37m\u001b[0m \u001b[1m321s\u001b[0m 32s/step - accuracy: 0.9923 - loss: 0.0186 - val_accuracy: 0.8889 - val_loss: 0.7887\n",
      "Epoch 84/149\n",
      "\u001b[1m10/10\u001b[0m \u001b[32m━━━━━━━━━━━━━━━━━━━━\u001b[0m\u001b[37m\u001b[0m \u001b[1m320s\u001b[0m 32s/step - accuracy: 0.9982 - loss: 0.0057 - val_accuracy: 0.9028 - val_loss: 0.7095\n",
      "Epoch 85/149\n",
      "\u001b[1m10/10\u001b[0m \u001b[32m━━━━━━━━━━━━━━━━━━━━\u001b[0m\u001b[37m\u001b[0m \u001b[1m317s\u001b[0m 32s/step - accuracy: 0.9974 - loss: 0.0112 - val_accuracy: 0.8750 - val_loss: 1.0834\n",
      "Epoch 86/149\n",
      "\u001b[1m10/10\u001b[0m \u001b[32m━━━━━━━━━━━━━━━━━━━━\u001b[0m\u001b[37m\u001b[0m \u001b[1m319s\u001b[0m 32s/step - accuracy: 1.0000 - loss: 0.0030 - val_accuracy: 0.8889 - val_loss: 0.8491\n",
      "Epoch 87/149\n",
      "\u001b[1m10/10\u001b[0m \u001b[32m━━━━━━━━━━━━━━━━━━━━\u001b[0m\u001b[37m\u001b[0m \u001b[1m324s\u001b[0m 32s/step - accuracy: 0.9796 - loss: 0.0641 - val_accuracy: 0.8889 - val_loss: 0.6985\n",
      "Epoch 88/149\n",
      "\u001b[1m10/10\u001b[0m \u001b[32m━━━━━━━━━━━━━━━━━━━━\u001b[0m\u001b[37m\u001b[0m \u001b[1m320s\u001b[0m 32s/step - accuracy: 0.9986 - loss: 0.0049 - val_accuracy: 0.8750 - val_loss: 0.9039\n",
      "Epoch 89/149\n",
      "\u001b[1m10/10\u001b[0m \u001b[32m━━━━━━━━━━━━━━━━━━━━\u001b[0m\u001b[37m\u001b[0m \u001b[1m318s\u001b[0m 32s/step - accuracy: 0.9946 - loss: 0.0135 - val_accuracy: 0.8889 - val_loss: 0.6326\n",
      "Epoch 90/149\n",
      "\u001b[1m10/10\u001b[0m \u001b[32m━━━━━━━━━━━━━━━━━━━━\u001b[0m\u001b[37m\u001b[0m \u001b[1m321s\u001b[0m 32s/step - accuracy: 0.9985 - loss: 0.0068 - val_accuracy: 0.8889 - val_loss: 0.8147\n",
      "Epoch 91/149\n",
      "\u001b[1m10/10\u001b[0m \u001b[32m━━━━━━━━━━━━━━━━━━━━\u001b[0m\u001b[37m\u001b[0m \u001b[1m330s\u001b[0m 33s/step - accuracy: 0.9978 - loss: 0.0060 - val_accuracy: 0.9306 - val_loss: 0.7358\n",
      "Epoch 92/149\n",
      "\u001b[1m10/10\u001b[0m \u001b[32m━━━━━━━━━━━━━━━━━━━━\u001b[0m\u001b[37m\u001b[0m \u001b[1m338s\u001b[0m 33s/step - accuracy: 0.9968 - loss: 0.0062 - val_accuracy: 0.8611 - val_loss: 0.7997\n",
      "Epoch 93/149\n",
      "\u001b[1m10/10\u001b[0m \u001b[32m━━━━━━━━━━━━━━━━━━━━\u001b[0m\u001b[37m\u001b[0m \u001b[1m324s\u001b[0m 32s/step - accuracy: 0.9978 - loss: 0.0086 - val_accuracy: 0.8750 - val_loss: 0.7462\n",
      "Epoch 94/149\n",
      "\u001b[1m10/10\u001b[0m \u001b[32m━━━━━━━━━━━━━━━━━━━━\u001b[0m\u001b[37m\u001b[0m \u001b[1m318s\u001b[0m 32s/step - accuracy: 0.9967 - loss: 0.0074 - val_accuracy: 0.8611 - val_loss: 0.8533\n",
      "Epoch 95/149\n",
      "\u001b[1m10/10\u001b[0m \u001b[32m━━━━━━━━━━━━━━━━━━━━\u001b[0m\u001b[37m\u001b[0m \u001b[1m321s\u001b[0m 32s/step - accuracy: 0.9935 - loss: 0.0167 - val_accuracy: 0.8611 - val_loss: 1.1718\n",
      "Epoch 96/149\n",
      "\u001b[1m10/10\u001b[0m \u001b[32m━━━━━━━━━━━━━━━━━━━━\u001b[0m\u001b[37m\u001b[0m \u001b[1m328s\u001b[0m 33s/step - accuracy: 0.9997 - loss: 0.0040 - val_accuracy: 0.9028 - val_loss: 0.8014\n",
      "Epoch 97/149\n",
      "\u001b[1m10/10\u001b[0m \u001b[32m━━━━━━━━━━━━━━━━━━━━\u001b[0m\u001b[37m\u001b[0m \u001b[1m323s\u001b[0m 32s/step - accuracy: 0.9985 - loss: 0.0055 - val_accuracy: 0.9028 - val_loss: 0.7752\n",
      "Epoch 98/149\n",
      "\u001b[1m10/10\u001b[0m \u001b[32m━━━━━━━━━━━━━━━━━━━━\u001b[0m\u001b[37m\u001b[0m \u001b[1m323s\u001b[0m 32s/step - accuracy: 0.9942 - loss: 0.0151 - val_accuracy: 0.8611 - val_loss: 1.1666\n",
      "Epoch 99/149\n",
      "\u001b[1m10/10\u001b[0m \u001b[32m━━━━━━━━━━━━━━━━━━━━\u001b[0m\u001b[37m\u001b[0m \u001b[1m318s\u001b[0m 32s/step - accuracy: 0.9995 - loss: 0.0058 - val_accuracy: 0.9167 - val_loss: 0.7664\n",
      "Epoch 100/149\n",
      "\u001b[1m10/10\u001b[0m \u001b[32m━━━━━━━━━━━━━━━━━━━━\u001b[0m\u001b[37m\u001b[0m \u001b[1m317s\u001b[0m 32s/step - accuracy: 0.9968 - loss: 0.0100 - val_accuracy: 0.9167 - val_loss: 0.7656\n",
      "Epoch 101/149\n",
      "\u001b[1m10/10\u001b[0m \u001b[32m━━━━━━━━━━━━━━━━━━━━\u001b[0m\u001b[37m\u001b[0m \u001b[1m318s\u001b[0m 32s/step - accuracy: 0.9971 - loss: 0.0054 - val_accuracy: 0.9028 - val_loss: 0.8149\n",
      "Epoch 102/149\n",
      "\u001b[1m10/10\u001b[0m \u001b[32m━━━━━━━━━━━━━━━━━━━━\u001b[0m\u001b[37m\u001b[0m \u001b[1m315s\u001b[0m 31s/step - accuracy: 0.9997 - loss: 0.0062 - val_accuracy: 0.9028 - val_loss: 0.7597\n",
      "Epoch 103/149\n",
      "\u001b[1m10/10\u001b[0m \u001b[32m━━━━━━━━━━━━━━━━━━━━\u001b[0m\u001b[37m\u001b[0m \u001b[1m320s\u001b[0m 33s/step - accuracy: 0.9997 - loss: 0.0021 - val_accuracy: 0.9028 - val_loss: 0.7374\n",
      "Epoch 104/149\n",
      "\u001b[1m10/10\u001b[0m \u001b[32m━━━━━━━━━━━━━━━━━━━━\u001b[0m\u001b[37m\u001b[0m \u001b[1m318s\u001b[0m 32s/step - accuracy: 0.9997 - loss: 0.0019 - val_accuracy: 0.8611 - val_loss: 0.7997\n",
      "Epoch 105/149\n",
      "\u001b[1m10/10\u001b[0m \u001b[32m━━━━━━━━━━━━━━━━━━━━\u001b[0m\u001b[37m\u001b[0m \u001b[1m317s\u001b[0m 33s/step - accuracy: 1.0000 - loss: 0.0010 - val_accuracy: 0.8611 - val_loss: 0.7609\n",
      "Epoch 106/149\n",
      "\u001b[1m10/10\u001b[0m \u001b[32m━━━━━━━━━━━━━━━━━━━━\u001b[0m\u001b[37m\u001b[0m \u001b[1m316s\u001b[0m 32s/step - accuracy: 1.0000 - loss: 0.0035 - val_accuracy: 0.8889 - val_loss: 0.8105\n",
      "Epoch 107/149\n",
      "\u001b[1m10/10\u001b[0m \u001b[32m━━━━━━━━━━━━━━━━━━━━\u001b[0m\u001b[37m\u001b[0m \u001b[1m317s\u001b[0m 32s/step - accuracy: 0.9943 - loss: 0.0239 - val_accuracy: 0.8750 - val_loss: 1.0050\n",
      "Epoch 108/149\n",
      "\u001b[1m10/10\u001b[0m \u001b[32m━━━━━━━━━━━━━━━━━━━━\u001b[0m\u001b[37m\u001b[0m \u001b[1m316s\u001b[0m 32s/step - accuracy: 0.9982 - loss: 0.0069 - val_accuracy: 0.9028 - val_loss: 0.9933\n",
      "Epoch 109/149\n",
      "\u001b[1m10/10\u001b[0m \u001b[32m━━━━━━━━━━━━━━━━━━━━\u001b[0m\u001b[37m\u001b[0m \u001b[1m322s\u001b[0m 34s/step - accuracy: 1.0000 - loss: 0.0022 - val_accuracy: 0.8889 - val_loss: 0.8672\n",
      "Epoch 110/149\n",
      "\u001b[1m10/10\u001b[0m \u001b[32m━━━━━━━━━━━━━━━━━━━━\u001b[0m\u001b[37m\u001b[0m \u001b[1m317s\u001b[0m 32s/step - accuracy: 1.0000 - loss: 0.0014 - val_accuracy: 0.8889 - val_loss: 0.8987\n",
      "Epoch 111/149\n",
      "\u001b[1m10/10\u001b[0m \u001b[32m━━━━━━━━━━━━━━━━━━━━\u001b[0m\u001b[37m\u001b[0m \u001b[1m320s\u001b[0m 32s/step - accuracy: 0.9991 - loss: 0.0040 - val_accuracy: 0.8611 - val_loss: 1.0170\n",
      "Epoch 112/149\n",
      "\u001b[1m10/10\u001b[0m \u001b[32m━━━━━━━━━━━━━━━━━━━━\u001b[0m\u001b[37m\u001b[0m \u001b[1m316s\u001b[0m 32s/step - accuracy: 1.0000 - loss: 0.0025 - val_accuracy: 0.8750 - val_loss: 0.9059\n",
      "Epoch 113/149\n",
      "\u001b[1m10/10\u001b[0m \u001b[32m━━━━━━━━━━━━━━━━━━━━\u001b[0m\u001b[37m\u001b[0m \u001b[1m320s\u001b[0m 32s/step - accuracy: 0.9986 - loss: 0.0071 - val_accuracy: 0.8750 - val_loss: 0.8790\n",
      "Epoch 114/149\n",
      "\u001b[1m10/10\u001b[0m \u001b[32m━━━━━━━━━━━━━━━━━━━━\u001b[0m\u001b[37m\u001b[0m \u001b[1m317s\u001b[0m 32s/step - accuracy: 0.9991 - loss: 0.0045 - val_accuracy: 0.8889 - val_loss: 0.8499\n",
      "Epoch 115/149\n",
      "\u001b[1m10/10\u001b[0m \u001b[32m━━━━━━━━━━━━━━━━━━━━\u001b[0m\u001b[37m\u001b[0m \u001b[1m318s\u001b[0m 32s/step - accuracy: 0.9983 - loss: 0.0037 - val_accuracy: 0.8889 - val_loss: 0.8493\n",
      "Epoch 116/149\n",
      "\u001b[1m10/10\u001b[0m \u001b[32m━━━━━━━━━━━━━━━━━━━━\u001b[0m\u001b[37m\u001b[0m \u001b[1m317s\u001b[0m 32s/step - accuracy: 0.9995 - loss: 0.0100 - val_accuracy: 0.7639 - val_loss: 1.7377\n",
      "Epoch 117/149\n",
      "\u001b[1m10/10\u001b[0m \u001b[32m━━━━━━━━━━━━━━━━━━━━\u001b[0m\u001b[37m\u001b[0m \u001b[1m317s\u001b[0m 32s/step - accuracy: 0.9992 - loss: 0.0037 - val_accuracy: 0.8472 - val_loss: 1.2328\n",
      "Epoch 118/149\n",
      "\u001b[1m10/10\u001b[0m \u001b[32m━━━━━━━━━━━━━━━━━━━━\u001b[0m\u001b[37m\u001b[0m \u001b[1m318s\u001b[0m 32s/step - accuracy: 0.9997 - loss: 0.0020 - val_accuracy: 0.8750 - val_loss: 0.8340\n",
      "Epoch 119/149\n",
      "\u001b[1m10/10\u001b[0m \u001b[32m━━━━━━━━━━━━━━━━━━━━\u001b[0m\u001b[37m\u001b[0m \u001b[1m317s\u001b[0m 32s/step - accuracy: 0.9994 - loss: 0.0032 - val_accuracy: 0.8889 - val_loss: 0.9830\n",
      "Epoch 120/149\n",
      "\u001b[1m10/10\u001b[0m \u001b[32m━━━━━━━━━━━━━━━━━━━━\u001b[0m\u001b[37m\u001b[0m \u001b[1m316s\u001b[0m 31s/step - accuracy: 0.9935 - loss: 0.0073 - val_accuracy: 0.8472 - val_loss: 0.8893\n",
      "Epoch 121/149\n",
      "\u001b[1m10/10\u001b[0m \u001b[32m━━━━━━━━━━━━━━━━━━━━\u001b[0m\u001b[37m\u001b[0m \u001b[1m320s\u001b[0m 32s/step - accuracy: 0.9954 - loss: 0.0092 - val_accuracy: 0.8333 - val_loss: 1.0314\n",
      "Epoch 122/149\n",
      "\u001b[1m10/10\u001b[0m \u001b[32m━━━━━━━━━━━━━━━━━━━━\u001b[0m\u001b[37m\u001b[0m \u001b[1m317s\u001b[0m 32s/step - accuracy: 0.9989 - loss: 0.0029 - val_accuracy: 0.8472 - val_loss: 0.8615\n",
      "Epoch 123/149\n",
      "\u001b[1m10/10\u001b[0m \u001b[32m━━━━━━━━━━━━━━━━━━━━\u001b[0m\u001b[37m\u001b[0m \u001b[1m316s\u001b[0m 31s/step - accuracy: 1.0000 - loss: 0.0015 - val_accuracy: 0.8611 - val_loss: 0.8196\n",
      "Epoch 124/149\n",
      "\u001b[1m10/10\u001b[0m \u001b[32m━━━━━━━━━━━━━━━━━━━━\u001b[0m\u001b[37m\u001b[0m \u001b[1m317s\u001b[0m 32s/step - accuracy: 0.9957 - loss: 0.0064 - val_accuracy: 0.8889 - val_loss: 0.8649\n",
      "Epoch 125/149\n",
      "\u001b[1m10/10\u001b[0m \u001b[32m━━━━━━━━━━━━━━━━━━━━\u001b[0m\u001b[37m\u001b[0m \u001b[1m318s\u001b[0m 32s/step - accuracy: 0.9929 - loss: 0.0125 - val_accuracy: 0.8611 - val_loss: 0.9461\n",
      "Epoch 126/149\n",
      "\u001b[1m10/10\u001b[0m \u001b[32m━━━━━━━━━━━━━━━━━━━━\u001b[0m\u001b[37m\u001b[0m \u001b[1m314s\u001b[0m 31s/step - accuracy: 0.9953 - loss: 0.0098 - val_accuracy: 0.8750 - val_loss: 1.0025\n",
      "Epoch 127/149\n",
      "\u001b[1m10/10\u001b[0m \u001b[32m━━━━━━━━━━━━━━━━━━━━\u001b[0m\u001b[37m\u001b[0m \u001b[1m315s\u001b[0m 33s/step - accuracy: 0.9959 - loss: 0.0055 - val_accuracy: 0.8750 - val_loss: 1.0368\n",
      "Epoch 128/149\n",
      "\u001b[1m10/10\u001b[0m \u001b[32m━━━━━━━━━━━━━━━━━━━━\u001b[0m\u001b[37m\u001b[0m \u001b[1m315s\u001b[0m 31s/step - accuracy: 0.9997 - loss: 0.0028 - val_accuracy: 0.8472 - val_loss: 1.5182\n",
      "Epoch 129/149\n",
      "\u001b[1m10/10\u001b[0m \u001b[32m━━━━━━━━━━━━━━━━━━━━\u001b[0m\u001b[37m\u001b[0m \u001b[1m315s\u001b[0m 31s/step - accuracy: 0.9987 - loss: 0.0024 - val_accuracy: 0.8611 - val_loss: 1.2756\n",
      "Epoch 130/149\n",
      "\u001b[1m10/10\u001b[0m \u001b[32m━━━━━━━━━━━━━━━━━━━━\u001b[0m\u001b[37m\u001b[0m \u001b[1m316s\u001b[0m 31s/step - accuracy: 0.9956 - loss: 0.0071 - val_accuracy: 0.8750 - val_loss: 1.0790\n",
      "Epoch 131/149\n",
      "\u001b[1m10/10\u001b[0m \u001b[32m━━━━━━━━━━━━━━━━━━━━\u001b[0m\u001b[37m\u001b[0m \u001b[1m318s\u001b[0m 32s/step - accuracy: 0.9982 - loss: 0.0035 - val_accuracy: 0.8750 - val_loss: 0.9628\n",
      "Epoch 132/149\n",
      "\u001b[1m10/10\u001b[0m \u001b[32m━━━━━━━━━━━━━━━━━━━━\u001b[0m\u001b[37m\u001b[0m \u001b[1m325s\u001b[0m 33s/step - accuracy: 0.9995 - loss: 0.0037 - val_accuracy: 0.8750 - val_loss: 0.8302\n",
      "Epoch 133/149\n",
      "\u001b[1m10/10\u001b[0m \u001b[32m━━━━━━━━━━━━━━━━━━━━\u001b[0m\u001b[37m\u001b[0m \u001b[1m318s\u001b[0m 32s/step - accuracy: 0.9994 - loss: 0.0017 - val_accuracy: 0.8611 - val_loss: 0.8464\n",
      "Epoch 134/149\n",
      "\u001b[1m10/10\u001b[0m \u001b[32m━━━━━━━━━━━━━━━━━━━━\u001b[0m\u001b[37m\u001b[0m \u001b[1m317s\u001b[0m 32s/step - accuracy: 0.9986 - loss: 0.0045 - val_accuracy: 0.9306 - val_loss: 0.6786\n",
      "Epoch 135/149\n",
      "\u001b[1m10/10\u001b[0m \u001b[32m━━━━━━━━━━━━━━━━━━━━\u001b[0m\u001b[37m\u001b[0m \u001b[1m316s\u001b[0m 31s/step - accuracy: 0.9977 - loss: 0.0040 - val_accuracy: 0.8889 - val_loss: 0.8002\n",
      "Epoch 136/149\n",
      "\u001b[1m10/10\u001b[0m \u001b[32m━━━━━━━━━━━━━━━━━━━━\u001b[0m\u001b[37m\u001b[0m \u001b[1m316s\u001b[0m 31s/step - accuracy: 0.9971 - loss: 0.0074 - val_accuracy: 0.8611 - val_loss: 1.0176\n",
      "Epoch 137/149\n",
      "\u001b[1m10/10\u001b[0m \u001b[32m━━━━━━━━━━━━━━━━━━━━\u001b[0m\u001b[37m\u001b[0m \u001b[1m316s\u001b[0m 32s/step - accuracy: 1.0000 - loss: 0.0020 - val_accuracy: 0.8889 - val_loss: 0.8727\n",
      "Epoch 138/149\n",
      "\u001b[1m10/10\u001b[0m \u001b[32m━━━━━━━━━━━━━━━━━━━━\u001b[0m\u001b[37m\u001b[0m \u001b[1m316s\u001b[0m 32s/step - accuracy: 0.9994 - loss: 0.0028 - val_accuracy: 0.8889 - val_loss: 0.9306\n",
      "Epoch 139/149\n",
      "\u001b[1m10/10\u001b[0m \u001b[32m━━━━━━━━━━━━━━━━━━━━\u001b[0m\u001b[37m\u001b[0m \u001b[1m316s\u001b[0m 31s/step - accuracy: 1.0000 - loss: 0.0030 - val_accuracy: 0.9028 - val_loss: 0.8399\n",
      "Epoch 140/149\n",
      "\u001b[1m10/10\u001b[0m \u001b[32m━━━━━━━━━━━━━━━━━━━━\u001b[0m\u001b[37m\u001b[0m \u001b[1m315s\u001b[0m 31s/step - accuracy: 0.9991 - loss: 0.0014 - val_accuracy: 0.8750 - val_loss: 0.9421\n",
      "Epoch 141/149\n",
      "\u001b[1m10/10\u001b[0m \u001b[32m━━━━━━━━━━━━━━━━━━━━\u001b[0m\u001b[37m\u001b[0m \u001b[1m317s\u001b[0m 32s/step - accuracy: 1.0000 - loss: 0.0020 - val_accuracy: 0.8889 - val_loss: 0.9079\n",
      "Epoch 142/149\n",
      "\u001b[1m10/10\u001b[0m \u001b[32m━━━━━━━━━━━━━━━━━━━━\u001b[0m\u001b[37m\u001b[0m \u001b[1m319s\u001b[0m 32s/step - accuracy: 0.9995 - loss: 0.0013 - val_accuracy: 0.8889 - val_loss: 0.8481\n",
      "Epoch 143/149\n",
      "\u001b[1m10/10\u001b[0m \u001b[32m━━━━━━━━━━━━━━━━━━━━\u001b[0m\u001b[37m\u001b[0m \u001b[1m369s\u001b[0m 37s/step - accuracy: 0.9939 - loss: 0.0099 - val_accuracy: 0.9167 - val_loss: 0.6603\n",
      "Epoch 144/149\n",
      "\u001b[1m10/10\u001b[0m \u001b[32m━━━━━━━━━━━━━━━━━━━━\u001b[0m\u001b[37m\u001b[0m \u001b[1m345s\u001b[0m 34s/step - accuracy: 0.9997 - loss: 0.0027 - val_accuracy: 0.8889 - val_loss: 0.7463\n",
      "Epoch 145/149\n",
      "\u001b[1m10/10\u001b[0m \u001b[32m━━━━━━━━━━━━━━━━━━━━\u001b[0m\u001b[37m\u001b[0m \u001b[1m318s\u001b[0m 32s/step - accuracy: 0.9979 - loss: 0.0064 - val_accuracy: 0.9028 - val_loss: 0.7487\n",
      "Epoch 146/149\n",
      "\u001b[1m10/10\u001b[0m \u001b[32m━━━━━━━━━━━━━━━━━━━━\u001b[0m\u001b[37m\u001b[0m \u001b[1m318s\u001b[0m 32s/step - accuracy: 0.9940 - loss: 0.0134 - val_accuracy: 0.8750 - val_loss: 0.8636\n",
      "Epoch 147/149\n",
      "\u001b[1m10/10\u001b[0m \u001b[32m━━━━━━━━━━━━━━━━━━━━\u001b[0m\u001b[37m\u001b[0m \u001b[1m315s\u001b[0m 31s/step - accuracy: 0.9989 - loss: 0.0025 - val_accuracy: 0.9028 - val_loss: 0.8305\n",
      "Epoch 148/149\n",
      "\u001b[1m10/10\u001b[0m \u001b[32m━━━━━━━━━━━━━━━━━━━━\u001b[0m\u001b[37m\u001b[0m \u001b[1m315s\u001b[0m 31s/step - accuracy: 0.9951 - loss: 0.0106 - val_accuracy: 0.8611 - val_loss: 1.1194\n",
      "Epoch 149/149\n",
      "\u001b[1m10/10\u001b[0m \u001b[32m━━━━━━━━━━━━━━━━━━━━\u001b[0m\u001b[37m\u001b[0m \u001b[1m317s\u001b[0m 32s/step - accuracy: 0.9997 - loss: 0.0042 - val_accuracy: 0.8889 - val_loss: 1.0386\n"
     ]
    }
   ],
   "source": [
    "from keras.applications import VGG16\n",
    "from keras.models import Model\n",
    "from keras.layers import Input, Conv2D, BatchNormalization, Activation, Add, Flatten, Dense, GlobalAveragePooling2D, Reshape, Multiply\n",
    "\n",
    "def squeeze_excitation_block(input, ratio=16):\n",
    "    init = input\n",
    "    channel_axis = -1\n",
    "    filters = init.shape[channel_axis]\n",
    "    se_shape = (1, 1, filters)\n",
    "\n",
    "    se = GlobalAveragePooling2D()(init)\n",
    "    se = Reshape(se_shape)(se)\n",
    "    se = Dense(filters // ratio, activation='relu', kernel_initializer='he_normal', use_bias=False)(se)\n",
    "    se = Dense(filters, activation='sigmoid', kernel_initializer='he_normal', use_bias=False)(se)\n",
    "\n",
    "    x = Multiply()([init, se])\n",
    "    return x\n",
    "\n",
    "def residual_block(x, filters, kernel_size, stride):\n",
    "    shortcut = x\n",
    "    x = Conv2D(filters, kernel_size, strides=stride, padding='same')(x)\n",
    "    x = BatchNormalization()(x)\n",
    "    x = Activation('relu')(x)\n",
    "    x = Conv2D(filters, kernel_size, padding='same')(x)\n",
    "    x = BatchNormalization()(x)\n",
    "    x = squeeze_excitation_block(x)\n",
    "    x = Add()([x, shortcut])\n",
    "    x = Activation('relu')(x)\n",
    "    return x\n",
    "\n",
    "input_tensor = Input(shape=(224, 224, 3))\n",
    "vgg16 = VGG16(include_top=False, weights='imagenet', input_tensor=input_tensor)\n",
    "\n",
    "x = vgg16.layers[-1].output\n",
    "x = residual_block(x, 512, 3, 1)\n",
    "x = residual_block(x, 512, 3, 1)\n",
    "x = BatchNormalization()(x)\n",
    "x = Flatten()(x)\n",
    "x = Dense(1024, activation='relu')(x)\n",
    "x = Dense(512, activation='relu')(x)\n",
    "predictions = Dense(4, activation='softmax')(x)\n",
    "model = Model(inputs=input_tensor, outputs=predictions)\n",
    "# model.summary()\n",
    "\n",
    "optimizer = tf.keras.optimizers.SGD()\n",
    "model.compile(optimizer=optimizer, loss='categorical_crossentropy', metrics=['accuracy'])\n",
    "\n",
    "epochs = 149\n",
    "history = model.fit(\n",
    "    train_generator,\n",
    "    validation_data=validation_generator,\n",
    "    epochs=epochs,\n",
    "    verbose=1\n",
    ")"
   ]
  },
  {
   "cell_type": "code",
   "execution_count": 16,
   "id": "3ac900d5",
   "metadata": {
    "papermill": {
     "duration": 7.946612,
     "end_time": "2024-05-16T17:22:47.688461",
     "exception": false,
     "start_time": "2024-05-16T17:22:39.741849",
     "status": "completed"
    },
    "tags": []
   },
   "outputs": [
    {
     "name": "stdout",
     "output_type": "stream",
     "text": [
      "\u001b[1m5/5\u001b[0m \u001b[32m━━━━━━━━━━━━━━━━━━━━\u001b[0m\u001b[37m\u001b[0m \u001b[1m88s\u001b[0m 17s/step - accuracy: 0.9339 - loss: 0.3113\n",
      "Test accuracy: 0.9365079402923584\n"
     ]
    }
   ],
   "source": [
    "test_loss, test_accuracy = model.evaluate(test_generator)\n",
    "print('Test accuracy:', test_accuracy)"
   ]
  },
  {
   "cell_type": "code",
   "execution_count": 17,
   "id": "b8cbc20a",
   "metadata": {
    "papermill": {
     "duration": 4.064308,
     "end_time": "2024-05-16T17:22:51.857387",
     "exception": false,
     "start_time": "2024-05-16T17:22:47.793079",
     "status": "completed"
    },
    "tags": []
   },
   "outputs": [
    {
     "name": "stdout",
     "output_type": "stream",
     "text": [
      "\u001b[1m5/5\u001b[0m \u001b[32m━━━━━━━━━━━━━━━━━━━━\u001b[0m\u001b[37m\u001b[0m \u001b[1m89s\u001b[0m 17s/step\n",
      "\n",
      "\n",
      "Confusion Matrix:\n",
      " [[109   5   0   6]\n",
      " [  1  50   0   0]\n",
      " [  1   0  53   0]\n",
      " [  4   3   0  83]]\n"
     ]
    },
    {
     "data": {
      "image/png": "[encoded data removed]",
      "text/plain": [
       "<Figure size 1000x400 with 2 Axes>"
      ]
     },
     "metadata": {},
     "output_type": "display_data"
    }
   ],
   "source": [
    "num_test_samples = len(test_generator)\n",
    "num_classes = len(test_generator.class_indices)\n",
    "predicted_probabilities = model.predict(test_generator, steps=num_test_samples)\n",
    "predicted_labels = np.argmax(predicted_probabilities, axis=1)\n",
    "true_labels = test_generator.classes\n",
    "cm = confusion_matrix(true_labels, predicted_labels)\n",
    "print(\"\\n\\nConfusion Matrix:\\n\", cm)\n",
    "\n",
    "plt.figure(figsize=(10,4))\n",
    "sns.heatmap(cm, annot=True, fmt='g', cmap='Reds')\n",
    "plt.xlabel('\\n\\nPredicted Label\\n')\n",
    "plt.ylabel('\\nTrue Label\\n')\n",
    "plt.title('Confusion Matrix\\n\\n')\n",
    "plt.show()"
   ]
  },
  {
   "cell_type": "code",
   "execution_count": 18,
   "id": "298123e3",
   "metadata": {
    "papermill": {
     "duration": 0.392994,
     "end_time": "2024-05-16T17:22:52.354650",
     "exception": false,
     "start_time": "2024-05-16T17:22:51.961656",
     "status": "completed"
    },
    "tags": []
   },
   "outputs": [
    {
     "data": {
      "image/png": "[encoded data removed]",
      "text/plain": [
       "<Figure size 640x480 with 1 Axes>"
      ]
     },
     "metadata": {},
     "output_type": "display_data"
    }
   ],
   "source": [
    "history_dict = history.history\n",
    "\n",
    "acc_values = history_dict['accuracy']\n",
    "val_acc_values = history_dict['val_accuracy']\n",
    "epochs = range(1, len(acc_values) + 1)\n",
    "\n",
    "line1 = plt.plot(epochs, val_acc_values, label = 'Validation/Test Accuracy')\n",
    "line2 = plt.plot(epochs, acc_values, label = 'Training Accuracy')\n",
    "\n",
    "# plt.setp(line1)\n",
    "# plt.setp(line2)\n",
    "plt.xlabel('Epochs')\n",
    "plt.ylabel('Accuracy')\n",
    "plt.grid(True)\n",
    "plt.legend()\n",
    "plt.show()"
   ]
  },
  {
   "cell_type": "code",
   "execution_count": 19,
   "id": "36667762",
   "metadata": {
    "papermill": {
     "duration": 0.370046,
     "end_time": "2024-05-16T17:22:52.829901",
     "exception": false,
     "start_time": "2024-05-16T17:22:52.459855",
     "status": "completed"
    },
    "tags": []
   },
   "outputs": [
    {
     "data": {
      "image/png": "[encoded data removed]",
      "text/plain": [
       "<Figure size 640x480 with 1 Axes>"
      ]
     },
     "metadata": {},
     "output_type": "display_data"
    }
   ],
   "source": [
    "history_dict = history.history\n",
    "\n",
    "loss_values = history_dict['loss']\n",
    "val_loss_values = history_dict['val_loss']\n",
    "epochs = range(1, len(loss_values) + 1)\n",
    "\n",
    "line1 = plt.plot(epochs, val_loss_values, label = 'Validation/Test Loss')\n",
    "line2 = plt.plot(epochs, loss_values, label = 'Training Loss')\n",
    "\n",
    "# plt.setp(line1)\n",
    "# plt.setp(line2)\n",
    "plt.xlabel('Epochs')\n",
    "plt.ylabel('Loss')\n",
    "plt.grid(True)\n",
    "plt.legend()\n",
    "plt.show()"
   ]
  },
  {
   "cell_type": "code",
   "execution_count": 20,
   "id": "11cdaeee-b333-40d1-a537-7ff841ff3181",
   "metadata": {},
   "outputs": [
    {
     "name": "stdout",
     "output_type": "stream",
     "text": [
      "              precision    recall  f1-score   support\n",
      "\n",
      "           0       0.95      0.91      0.93       120\n",
      "           1       0.86      0.98      0.92        51\n",
      "           2       1.00      0.98      0.99        54\n",
      "           3       0.93      0.92      0.93        90\n",
      "\n",
      "    accuracy                           0.94       315\n",
      "   macro avg       0.94      0.95      0.94       315\n",
      "weighted avg       0.94      0.94      0.94       315\n",
      "\n"
     ]
    }
   ],
   "source": [
    "report = classification_report(true_labels, predicted_labels)\n",
    "print(report)"
   ]
  },
  {
   "cell_type": "code",
   "execution_count": 1,
   "id": "d71b4036-7873-414a-826f-9d372646f0b0",
   "metadata": {},
   "outputs": [
    {
     "ename": "NameError",
     "evalue": "name 'test_generator' is not defined",
     "output_type": "error",
     "traceback": [
      "\u001b[0;31m---------------------------------------------------------------------------\u001b[0m",
      "\u001b[0;31mNameError\u001b[0m                                 Traceback (most recent call last)",
      "Cell \u001b[0;32mIn[1], line 7\u001b[0m\n\u001b[1;32m      4\u001b[0m \u001b[38;5;28;01mimport\u001b[39;00m \u001b[38;5;21;01mnumpy\u001b[39;00m \u001b[38;5;28;01mas\u001b[39;00m \u001b[38;5;21;01mnp\u001b[39;00m\n\u001b[1;32m      6\u001b[0m \u001b[38;5;66;03m# Assuming you have the test set labels and predictions from the model\u001b[39;00m\n\u001b[0;32m----> 7\u001b[0m true_labels \u001b[38;5;241m=\u001b[39m \u001b[43mtest_generator\u001b[49m\u001b[38;5;241m.\u001b[39mclasses\n\u001b[1;32m      8\u001b[0m predicted_labels \u001b[38;5;241m=\u001b[39m np\u001b[38;5;241m.\u001b[39margmax(predicted_probabilities, axis\u001b[38;5;241m=\u001b[39m\u001b[38;5;241m1\u001b[39m)\n\u001b[1;32m     10\u001b[0m \u001b[38;5;66;03m# Create confusion matrix\u001b[39;00m\n",
      "\u001b[0;31mNameError\u001b[0m: name 'test_generator' is not defined"
     ]
    }
   ],
   "source": [
    "import seaborn as sns\n",
    "import matplotlib.pyplot as plt\n",
    "from sklearn.metrics import confusion_matrix\n",
    "import numpy as np\n",
    "\n",
    "# Assuming you have the test set labels and predictions from the model\n",
    "true_labels = test_generator.classes\n",
    "predicted_labels = np.argmax(predicted_probabilities, axis=1)\n",
    "\n",
    "# Create confusion matrix\n",
    "cm = confusion_matrix(true_labels, predicted_labels)\n",
    "\n",
    "# Get class names from the test generator (this will depend on the directory names)\n",
    "class_names = list(test_generator.class_indices.keys())\n",
    "\n",
    "# Create a heatmap with labels on axes and a color bar on the side\n",
    "plt.figure(figsize=(10, 8))\n",
    "sns.heatmap(cm, annot=True, fmt='g', cmap='Reds', xticklabels=class_names, yticklabels=class_names, cbar=True)\n",
    "\n",
    "# Labeling the axes and adding a title\n",
    "plt.xlabel('Predicted Label', fontsize=14)\n",
    "plt.ylabel('True Label', fontsize=14)\n",
    "plt.title('Confusion Matrix', fontsize=16)\n",
    "\n",
    "# Show the plot\n",
    "plt.show()\n"
   ]
  },
  {
   "cell_type": "code",
   "execution_count": 9,
   "id": "87b9cc94",
   "metadata": {
    "execution": {
     "iopub.execute_input": "2024-05-16T17:22:53.043199Z",
     "iopub.status.busy": "2024-05-16T17:22:53.042362Z",
     "iopub.status.idle": "2024-05-16T17:22:53.055164Z",
     "shell.execute_reply": "2024-05-16T17:22:53.053940Z"
    },
    "papermill": {
     "duration": 0.121155,
     "end_time": "2024-05-16T17:22:53.057031",
     "exception": false,
     "start_time": "2024-05-16T17:22:52.935876",
     "status": "completed"
    },
    "tags": []
   },
   "outputs": [
    {
     "name": "stdout",
     "output_type": "stream",
     "text": [
      "              precision    recall  f1-score   support\n",
      "\n",
      "           0       1.00      0.86      0.92       120\n",
      "           1       0.72      1.00      0.84        51\n",
      "           2       0.98      0.98      0.98        54\n",
      "           3       0.97      0.93      0.95        90\n",
      "\n",
      "    accuracy                           0.92       315\n",
      "   macro avg       0.92      0.94      0.92       315\n",
      "weighted avg       0.94      0.92      0.93       315\n",
      "\n"
     ]
    }
   ],
   "source": [
    "report = classification_report(true_labels, predicted_labels)\n",
    "print(report)"
   ]
  }
 ],
 "metadata": {
  "kaggle": {
   "accelerator": "gpu",
   "dataSources": [
    {
     "datasetId": 839140,
     "sourceId": 1432479,
     "sourceType": "datasetVersion"
    }
   ],
   "dockerImageVersionId": 30512,
   "isGpuEnabled": true,
   "isInternetEnabled": true,
   "language": "python",
   "sourceType": "notebook"
  },
  "kernelspec": {
   "display_name": "Python 3 (ipykernel)",
   "language": "python",
   "name": "python3"
  },
  "language_info": {
   "codemirror_mode": {
    "name": "ipython",
    "version": 3
   },
   "file_extension": ".py",
   "mimetype": "text/x-python",
   "name": "python",
   "nbconvert_exporter": "python",
   "pygments_lexer": "ipython3",
   "version": "3.8.10"
  },
  "papermill": {
   "default_parameters": {},
   "duration": 1142.248544,
   "end_time": "2024-05-16T17:22:56.257919",
   "environment_variables": {},
   "exception": null,
   "input_path": "__notebook__.ipynb",
   "output_path": "__notebook__.ipynb",
   "parameters": {},
   "start_time": "2024-05-16T17:03:54.009375",
   "version": "2.4.0"
  }
 },
 "nbformat": 4,
 "nbformat_minor": 5
}
