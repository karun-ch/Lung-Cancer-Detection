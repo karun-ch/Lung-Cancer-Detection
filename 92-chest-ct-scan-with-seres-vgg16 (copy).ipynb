{
 "cells": [
  {
   "cell_type": "code",
   "execution_count": null,
   "id": "86c6b5cd-4299-44c6-adb2-c6ff642602c3",
   "metadata": {},
   "outputs": [],
   "source": []
  },
  {
   "cell_type": "code",
   "execution_count": 41,
   "id": "9e569b99",
   "metadata": {
    "_cell_guid": "b1076dfc-b9ad-4769-8c92-a6c4dae69d19",
    "_uuid": "8f2839f25d086af736a60e9eeb907d3b93b6e0e5",
    "papermill": {
     "duration": 10.64553,
     "end_time": "2024-05-16T17:04:15.441102",
     "exception": false,
     "start_time": "2024-05-16T17:04:04.795572",
     "status": "completed"
    },
    "tags": []
   },
   "outputs": [],
   "source": [
    "# This Python 3 environment comes with many helpful analytics libraries installed\n",
    "# It is defined by the kaggle/python Docker image: https://github.com/kaggle/docker-python\n",
    "# For example, here's several helpful packages to load\n",
    "\n",
    "import numpy as np # linear algebra\n",
    "import pandas as pd # data processing, CSV file I/O (e.g. pd.read_csv)\n",
    "import cv2\n",
    "import keras\n",
    "from numpy import random\n",
    "import tensorflow as tf\n",
    "# import tensorflow_datasets as tfds\n",
    "from matplotlib import pyplot as plt\n",
    "from keras.models import Sequential, Model\n",
    "from keras.layers import Dense, Dropout, Flatten, Conv2D\n",
    "from keras.layers import MaxPooling2D, BatchNormalization\n",
    "from keras.optimizers import SGD\n",
    "from keras.utils import np_utils\n",
    "from keras.applications import MobileNet, VGG16, ResNet50\n",
    "from tensorflow.keras.applications.resnet50 import preprocess_input\n",
    "from keras.callbacks import ModelCheckpoint, EarlyStopping, ReduceLROnPlateau\n",
    "from sklearn.metrics import precision_score, recall_score, accuracy_score\n",
    "from sklearn.metrics import classification_report ,confusion_matrix\n",
    "from keras.preprocessing.image import ImageDataGenerator\n",
    "from sklearn.model_selection import train_test_split\n",
    "import seaborn as sns\n",
    "\n",
    "# Input data files are available in the read-only \"../input/\" directory\n",
    "# For example, running this (by clicking run or pressing Shift+Enter) will list all files under the input directory\n",
    "\n",
    "import os\n",
    "\n",
    "\n",
    "# You can write up to 20GB to the current directory (/kaggle/working/) that gets preserved as output when you create a version using \"Save & Run All\" \n",
    "# You can also write temporary files to /kaggle/temp/, but they won't be saved outside of the current session"
   ]
  },
  {
   "cell_type": "markdown",
   "id": "8ecf9e0c",
   "metadata": {
    "papermill": {
     "duration": 0.003976,
     "end_time": "2024-05-16T17:04:15.449749",
     "exception": false,
     "start_time": "2024-05-16T17:04:15.445773",
     "status": "completed"
    },
    "tags": []
   },
   "source": [
    "* **Directory of dataset**"
   ]
  },
  {
   "cell_type": "code",
   "execution_count": 42,
   "id": "7a68e7ec",
   "metadata": {
    "papermill": {
     "duration": 0.012028,
     "end_time": "2024-05-16T17:04:15.465943",
     "exception": false,
     "start_time": "2024-05-16T17:04:15.453915",
     "status": "completed"
    },
    "tags": []
   },
   "outputs": [],
   "source": [
    "# Directory of train, validation and test\n",
    "\n",
    "train_folder = \"Data/train/\"\n",
    "valid_folder = \"Data/valid/\"\n",
    "test_folder = \"Data/test/\"\n"
   ]
  },
  {
   "cell_type": "code",
   "execution_count": 43,
   "id": "8986679d",
   "metadata": {
    "papermill": {
     "duration": 0.08688,
     "end_time": "2024-05-16T17:04:15.556821",
     "exception": false,
     "start_time": "2024-05-16T17:04:15.469941",
     "status": "completed"
    },
    "tags": []
   },
   "outputs": [
    {
     "name": "stdout",
     "output_type": "stream",
     "text": [
      "Found 613 images belonging to 4 classes.\n",
      "Found 315 images belonging to 4 classes.\n",
      "Found 72 images belonging to 4 classes.\n"
     ]
    }
   ],
   "source": [
    "input_shape = (224,224,3)\n",
    "num_classes = 4\n",
    "\n",
    "train_datagen = ImageDataGenerator(\n",
    "    dtype='float32',\n",
    "    rotation_range=10,\n",
    "    width_shift_range=0.2,\n",
    "    height_shift_range=0.2,\n",
    "    shear_range=0.2,\n",
    "    zoom_range=0.2,\n",
    "    horizontal_flip=True,\n",
    "    vertical_flip=False\n",
    ")\n",
    "val_datagen = ImageDataGenerator(\n",
    "    dtype='float32',\n",
    "\n",
    ")\n",
    "test_datagen = ImageDataGenerator(\n",
    "    dtype='float32',\n",
    ")\n",
    "\n",
    "train_generator = train_datagen.flow_from_directory(\n",
    "    train_folder,\n",
    "    target_size=(224,224),\n",
    "    batch_size=64,\n",
    "    class_mode='categorical',\n",
    ")\n",
    "\n",
    "\n",
    "test_generator = test_datagen.flow_from_directory(\n",
    "    test_folder,\n",
    "    target_size=(224,224),\n",
    "    batch_size=64,\n",
    "    class_mode='categorical',\n",
    "    shuffle = False,\n",
    ")\n",
    "validation_generator = val_datagen.flow_from_directory(\n",
    "    valid_folder,\n",
    "    target_size=(224,224),\n",
    "    batch_size=64,\n",
    "    class_mode='categorical',\n",
    ")"
   ]
  },
  {
   "cell_type": "markdown",
   "id": "a6711043",
   "metadata": {
    "papermill": {
     "duration": 0.004018,
     "end_time": "2024-05-16T17:04:15.565242",
     "exception": false,
     "start_time": "2024-05-16T17:04:15.561224",
     "status": "completed"
    },
    "tags": []
   },
   "source": [
    "# SERES_VGG16"
   ]
  },
  {
   "cell_type": "markdown",
   "id": "066391db",
   "metadata": {
    "papermill": {
     "duration": 0.003986,
     "end_time": "2024-05-16T17:04:15.573496",
     "exception": false,
     "start_time": "2024-05-16T17:04:15.569510",
     "status": "completed"
    },
    "tags": []
   },
   "source": [
    "* **Integrating the SE Block into the Residual Block and Incorporating it into the Last Two Output Layers of a Pre-trained VGG16 Model**"
   ]
  },
  {
   "cell_type": "code",
   "execution_count": null,
   "id": "a520577e",
   "metadata": {
    "papermill": {
     "duration": 1104.058955,
     "end_time": "2024-05-16T17:22:39.636566",
     "exception": false,
     "start_time": "2024-05-16T17:04:15.577611",
     "status": "completed"
    },
    "tags": []
   },
   "outputs": [
    {
     "name": "stdout",
     "output_type": "stream",
     "text": [
      "Epoch 1/10\n",
      "10/10 [==============================] - 490s 49s/step - loss: 1.4815 - accuracy: 0.4241 - val_loss: 24.7998 - val_accuracy: 0.1806\n",
      "Epoch 2/10\n",
      "10/10 [==============================] - 447s 44s/step - loss: 1.4377 - accuracy: 0.4812 - val_loss: 4.9114 - val_accuracy: 0.2083\n",
      "Epoch 3/10\n",
      "10/10 [==============================] - 496s 51s/step - loss: 1.0965 - accuracy: 0.5057 - val_loss: 5.1198 - val_accuracy: 0.1806\n",
      "Epoch 4/10\n"
     ]
    }
   ],
   "source": [
    "from keras.applications import VGG16\n",
    "from keras.models import Model\n",
    "from keras.layers import Input, Conv2D, BatchNormalization, Activation, Add, Flatten, Dense, GlobalAveragePooling2D, Reshape, Multiply\n",
    "\n",
    "def squeeze_excitation_block(input, ratio=16):\n",
    "    init = input\n",
    "    channel_axis = -1\n",
    "    filters = init.shape[channel_axis]\n",
    "    se_shape = (1, 1, filters)\n",
    "\n",
    "    se = GlobalAveragePooling2D()(init)\n",
    "    se = Reshape(se_shape)(se)\n",
    "    se = Dense(filters // ratio, activation='relu', kernel_initializer='he_normal', use_bias=False)(se)\n",
    "    se = Dense(filters, activation='sigmoid', kernel_initializer='he_normal', use_bias=False)(se)\n",
    "\n",
    "    x = Multiply()([init, se])\n",
    "    return x\n",
    "\n",
    "def residual_block(x, filters, kernel_size, stride):\n",
    "    shortcut = x\n",
    "    x = Conv2D(filters, kernel_size, strides=stride, padding='same')(x)\n",
    "    x = BatchNormalization()(x)\n",
    "    x = Activation('relu')(x)\n",
    "    x = Conv2D(filters, kernel_size, padding='same')(x)\n",
    "    x = BatchNormalization()(x)\n",
    "    x = squeeze_excitation_block(x)\n",
    "    x = Add()([x, shortcut])\n",
    "    x = Activation('relu')(x)\n",
    "    return x\n",
    "\n",
    "input_tensor = Input(shape=(224, 224, 3))\n",
    "vgg16 = VGG16(include_top=False, weights='imagenet', input_tensor=input_tensor)\n",
    "\n",
    "x = vgg16.layers[-1].output\n",
    "x = residual_block(x, 512, 3, 1)\n",
    "x = residual_block(x, 512, 3, 1)\n",
    "x = BatchNormalization()(x)\n",
    "x = Flatten()(x)\n",
    "x = Dense(1024, activation='relu')(x)\n",
    "x = Dense(512, activation='relu')(x)\n",
    "predictions = Dense(4, activation='softmax')(x)\n",
    "model = Model(inputs=input_tensor, outputs=predictions)\n",
    "# model.summary()\n",
    "\n",
    "optimizer = tf.keras.optimizers.SGD()\n",
    "model.compile(optimizer=optimizer, loss='categorical_crossentropy', metrics=['accuracy'])\n",
    "\n",
    "epochs = 10\n",
    "history = model.fit(\n",
    "    train_generator,\n",
    "    validation_data=validation_generator,\n",
    "    epochs=epochs,\n",
    "    verbose=1\n",
    ")"
   ]
  },
  {
   "cell_type": "code",
   "execution_count": 1,
   "id": "3ac900d5",
   "metadata": {
    "papermill": {
     "duration": 7.946612,
     "end_time": "2024-05-16T17:22:47.688461",
     "exception": false,
     "start_time": "2024-05-16T17:22:39.741849",
     "status": "completed"
    },
    "tags": []
   },
   "outputs": [
    {
     "ename": "NameError",
     "evalue": "name 'model' is not defined",
     "output_type": "error",
     "traceback": [
      "\u001b[0;31m---------------------------------------------------------------------------\u001b[0m",
      "\u001b[0;31mNameError\u001b[0m                                 Traceback (most recent call last)",
      "Cell \u001b[0;32mIn[1], line 1\u001b[0m\n\u001b[0;32m----> 1\u001b[0m test_loss, test_accuracy \u001b[38;5;241m=\u001b[39m \u001b[43mmodel\u001b[49m\u001b[38;5;241m.\u001b[39mevaluate(test_generator)\n\u001b[1;32m      2\u001b[0m \u001b[38;5;28mprint\u001b[39m(\u001b[38;5;124m'\u001b[39m\u001b[38;5;124mTest accuracy:\u001b[39m\u001b[38;5;124m'\u001b[39m, test_accuracy)\n",
      "\u001b[0;31mNameError\u001b[0m: name 'model' is not defined"
     ]
    }
   ],
   "source": [
    "test_loss, test_accuracy = model.evaluate(test_generator)\n",
    "print('Test accuracy:', test_accuracy)"
   ]
  },
  {
   "cell_type": "code",
   "execution_count": 34,
   "id": "b8cbc20a",
   "metadata": {
    "papermill": {
     "duration": 4.064308,
     "end_time": "2024-05-16T17:22:51.857387",
     "exception": false,
     "start_time": "2024-05-16T17:22:47.793079",
     "status": "completed"
    },
    "tags": []
   },
   "outputs": [
    {
     "name": "stdout",
     "output_type": "stream",
     "text": [
      "5/5 [==============================] - 53s 11s/step\n",
      "\n",
      "\n",
      "Confusion Matrix:\n",
      " [[  0   0 120   0]\n",
      " [  0   0  51   0]\n",
      " [  0   0  54   0]\n",
      " [  0   0  90   0]]\n"
     ]
    },
    {
     "data": {
      "image/png": "[encoded data removed]",
      "text/plain": [
       "<Figure size 1000x400 with 2 Axes>"
      ]
     },
     "metadata": {},
     "output_type": "display_data"
    }
   ],
   "source": [
    "num_test_samples = len(test_generator)\n",
    "num_classes = len(test_generator.class_indices)\n",
    "predicted_probabilities = model.predict(test_generator, steps=num_test_samples)\n",
    "predicted_labels = np.argmax(predicted_probabilities, axis=1)\n",
    "true_labels = test_generator.classes\n",
    "cm = confusion_matrix(true_labels, predicted_labels)\n",
    "print(\"\\n\\nConfusion Matrix:\\n\", cm)\n",
    "\n",
    "plt.figure(figsize=(10,4))\n",
    "sns.heatmap(cm, annot=True, fmt='g', cmap='Reds')\n",
    "plt.xlabel('\\n\\nPredicted Label\\n')\n",
    "plt.ylabel('\\nTrue Label\\n')\n",
    "plt.title('Confusion Matrix\\n\\n')\n",
    "plt.show()"
   ]
  },
  {
   "cell_type": "code",
   "execution_count": 38,
   "id": "298123e3",
   "metadata": {
    "papermill": {
     "duration": 0.392994,
     "end_time": "2024-05-16T17:22:52.354650",
     "exception": false,
     "start_time": "2024-05-16T17:22:51.961656",
     "status": "completed"
    },
    "tags": []
   },
   "outputs": [
    {
     "data": {
      "image/png": "[encoded data removed]",
      "text/plain": [
       "<Figure size 640x480 with 1 Axes>"
      ]
     },
     "metadata": {},
     "output_type": "display_data"
    }
   ],
   "source": [
    "history_dict = history.history\n",
    "\n",
    "acc_values = history_dict['accuracy']\n",
    "val_acc_values = history_dict['val_accuracy']\n",
    "epochs = range(1, len(acc_values) + 1)\n",
    "\n",
    "line1 = plt.plot(epochs, val_acc_values, label = 'Validation/Test Accuracy')\n",
    "line2 = plt.plot(epochs, acc_values, label = 'Training Accuracy')\n",
    "\n",
    "# plt.setp(line1)\n",
    "# plt.setp(line2)\n",
    "plt.xlabel('Epochs')\n",
    "plt.ylabel('Accuracy')\n",
    "plt.grid(True)\n",
    "plt.legend()\n",
    "plt.show()"
   ]
  },
  {
   "cell_type": "code",
   "execution_count": 39,
   "id": "36667762",
   "metadata": {
    "papermill": {
     "duration": 0.370046,
     "end_time": "2024-05-16T17:22:52.829901",
     "exception": false,
     "start_time": "2024-05-16T17:22:52.459855",
     "status": "completed"
    },
    "tags": []
   },
   "outputs": [
    {
     "data": {
      "image/png": "[encoded data removed]",
      "text/plain": [
       "<Figure size 640x480 with 1 Axes>"
      ]
     },
     "metadata": {},
     "output_type": "display_data"
    }
   ],
   "source": [
    "history_dict = history.history\n",
    "\n",
    "loss_values = history_dict['loss']\n",
    "val_loss_values = history_dict['val_loss']\n",
    "epochs = range(1, len(loss_values) + 1)\n",
    "\n",
    "line1 = plt.plot(epochs, val_loss_values, label = 'Validation/Test Loss')\n",
    "line2 = plt.plot(epochs, loss_values, label = 'Training Loss')\n",
    "\n",
    "# plt.setp(line1)\n",
    "# plt.setp(line2)\n",
    "plt.xlabel('Epochs')\n",
    "plt.ylabel('Loss')\n",
    "plt.grid(True)\n",
    "plt.legend()\n",
    "plt.show()"
   ]
  },
  {
   "cell_type": "code",
   "execution_count": 40,
   "id": "11cdaeee-b333-40d1-a537-7ff841ff3181",
   "metadata": {},
   "outputs": [
    {
     "name": "stdout",
     "output_type": "stream",
     "text": [
      "              precision    recall  f1-score   support\n",
      "\n",
      "           0       0.00      0.00      0.00       120\n",
      "           1       0.00      0.00      0.00        51\n",
      "           2       0.17      1.00      0.29        54\n",
      "           3       0.00      0.00      0.00        90\n",
      "\n",
      "    accuracy                           0.17       315\n",
      "   macro avg       0.04      0.25      0.07       315\n",
      "weighted avg       0.03      0.17      0.05       315\n",
      "\n"
     ]
    },
    {
     "name": "stderr",
     "output_type": "stream",
     "text": [
      "/home/karunakar/.local/lib/python3.8/site-packages/sklearn/metrics/_classification.py:1471: UndefinedMetricWarning: Precision and F-score are ill-defined and being set to 0.0 in labels with no predicted samples. Use `zero_division` parameter to control this behavior.\n",
      "  _warn_prf(average, modifier, msg_start, len(result))\n",
      "/home/karunakar/.local/lib/python3.8/site-packages/sklearn/metrics/_classification.py:1471: UndefinedMetricWarning: Precision and F-score are ill-defined and being set to 0.0 in labels with no predicted samples. Use `zero_division` parameter to control this behavior.\n",
      "  _warn_prf(average, modifier, msg_start, len(result))\n",
      "/home/karunakar/.local/lib/python3.8/site-packages/sklearn/metrics/_classification.py:1471: UndefinedMetricWarning: Precision and F-score are ill-defined and being set to 0.0 in labels with no predicted samples. Use `zero_division` parameter to control this behavior.\n",
      "  _warn_prf(average, modifier, msg_start, len(result))\n"
     ]
    }
   ],
   "source": [
    "report = classification_report(true_labels, predicted_labels)\n",
    "print(report)"
   ]
  },
  {
   "cell_type": "code",
   "execution_count": 9,
   "id": "87b9cc94",
   "metadata": {
    "execution": {
     "iopub.execute_input": "2024-05-16T17:22:53.043199Z",
     "iopub.status.busy": "2024-05-16T17:22:53.042362Z",
     "iopub.status.idle": "2024-05-16T17:22:53.055164Z",
     "shell.execute_reply": "2024-05-16T17:22:53.053940Z"
    },
    "papermill": {
     "duration": 0.121155,
     "end_time": "2024-05-16T17:22:53.057031",
     "exception": false,
     "start_time": "2024-05-16T17:22:52.935876",
     "status": "completed"
    },
    "tags": []
   },
   "outputs": [
    {
     "name": "stdout",
     "output_type": "stream",
     "text": [
      "              precision    recall  f1-score   support\n",
      "\n",
      "           0       1.00      0.86      0.92       120\n",
      "           1       0.72      1.00      0.84        51\n",
      "           2       0.98      0.98      0.98        54\n",
      "           3       0.97      0.93      0.95        90\n",
      "\n",
      "    accuracy                           0.92       315\n",
      "   macro avg       0.92      0.94      0.92       315\n",
      "weighted avg       0.94      0.92      0.93       315\n",
      "\n"
     ]
    }
   ],
   "source": [
    "report = classification_report(true_labels, predicted_labels)\n",
    "print(report)"
   ]
  }
 ],
 "metadata": {
  "kaggle": {
   "accelerator": "gpu",
   "dataSources": [
    {
     "datasetId": 839140,
     "sourceId": 1432479,
     "sourceType": "datasetVersion"
    }
   ],
   "dockerImageVersionId": 30512,
   "isGpuEnabled": true,
   "isInternetEnabled": true,
   "language": "python",
   "sourceType": "notebook"
  },
  "kernelspec": {
   "display_name": "Python 3 (ipykernel)",
   "language": "python",
   "name": "python3"
  },
  "language_info": {
   "codemirror_mode": {
    "name": "ipython",
    "version": 3
   },
   "file_extension": ".py",
   "mimetype": "text/x-python",
   "name": "python",
   "nbconvert_exporter": "python",
   "pygments_lexer": "ipython3",
   "version": "3.8.10"
  },
  "papermill": {
   "default_parameters": {},
   "duration": 1142.248544,
   "end_time": "2024-05-16T17:22:56.257919",
   "environment_variables": {},
   "exception": null,
   "input_path": "__notebook__.ipynb",
   "output_path": "__notebook__.ipynb",
   "parameters": {},
   "start_time": "2024-05-16T17:03:54.009375",
   "version": "2.4.0"
  }
 },
 "nbformat": 4,
 "nbformat_minor": 5
}
